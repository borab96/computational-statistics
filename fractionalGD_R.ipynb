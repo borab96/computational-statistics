{
 "cells": [
  {
   "cell_type": "markdown",
   "id": "e200273e-4d82-427f-bf59-86eada6440ae",
   "metadata": {},
   "source": [
    "# Fractional GD"
   ]
  },
  {
   "cell_type": "code",
   "execution_count": 2,
   "id": "5dac18d1-8f5e-4443-9a8a-a7d7073ac125",
   "metadata": {},
   "outputs": [
    {
     "name": "stderr",
     "output_type": "stream",
     "text": [
      "Warning message:\n",
      "\"package 'fracdiff' was built under R version 4.1.3\"\n"
     ]
    }
   ],
   "source": [
    "library('fracdiff')"
   ]
  },
  {
   "cell_type": "code",
   "execution_count": 3,
   "id": "9fca4fdd-ad36-4785-8d12-50163b43a81a",
   "metadata": {},
   "outputs": [],
   "source": [
    "caputo.derivative <- function(x, s, deriv, a=0)\n",
    "{   \n",
    "    if(deriv(x)==0){return(0)}\n",
    "    integrand <- function(tau) {(1/gamma(1-s))*deriv(tau)/(x-tau)**s}\n",
    "    return(integrate(integrand, lower = a, upper = x)$value)\n",
    "}\n",
    "v.caputo.derivative <- Vectorize(caputo.derivative, \"x\")"
   ]
  },
  {
   "cell_type": "code",
   "execution_count": 62,
   "id": "6e39971c-7bac-4ad1-90ba-f7eab0b09ca7",
   "metadata": {},
   "outputs": [],
   "source": [
    "x <- c(10, 10, 10)\n",
    "t1 <- 0.1\n",
    "t2 <- 0.1\n",
    "grad <- function(z){2*z}\n",
    "error <- NULL\n",
    "for(i in seq(1, 100))\n",
    "{\n",
    "    y <- tail(x,1) +(i-1)/(i+2)*tail(diffseries(x, d=0.9),1)\n",
    "    # print(y)\n",
    "    # y <- tail(x, 1)+(i-1)/(i+2)*(tail(x,1)-rev(x)[2])\n",
    "    # print(y)\n",
    "    x <- c(x, y-t2*grad(y))\n",
    "    error <- c(error, tail(x, 1)**2)\n",
    "}"
   ]
  },
  {
   "cell_type": "code",
   "execution_count": 63,
   "id": "34270c59-d81a-483e-b60c-bbfbb085a717",
   "metadata": {},
   "outputs": [
    {
     "data": {
      "image/png": "[encoded data removed]",
      "text/plain": [
       "plot without title"
      ]
     },
     "metadata": {
      "image/png": {
       "height": 420,
       "width": 420
      }
     },
     "output_type": "display_data"
    }
   ],
   "source": [
    "plot(error)\n"
   ]
  },
  {
   "cell_type": "code",
   "execution_count": 42,
   "id": "33905f76-67a1-44f4-a569-a428b12e18a9",
   "metadata": {},
   "outputs": [],
   "source": [
    "x <- c(10)\n",
    "t2 <- 0.1\n",
    "grad <- function(z){2*z}\n",
    "error <- NULL\n",
    "for(i in seq(1, 100))\n",
    "{\n",
    "    x <- x-t2*grad(x)\n",
    "    error <- c(error, x**2)\n",
    "}"
   ]
  },
  {
   "cell_type": "code",
   "execution_count": 43,
   "id": "26415332-ce7f-4240-bc1b-5e47d7be26e5",
   "metadata": {},
   "outputs": [
    {
     "data": {
      "image/png": "[encoded data removed]",
      "text/plain": [
       "plot without title"
      ]
     },
     "metadata": {
      "image/png": {
       "height": 420,
       "width": 420
      }
     },
     "output_type": "display_data"
    }
   ],
   "source": [
    "plot(error)"
   ]
  },
  {
   "cell_type": "code",
   "execution_count": 64,
   "id": "a73da5b5-57d4-4f5e-a4f6-f3b31ef6b7e9",
   "metadata": {},
   "outputs": [],
   "source": [
    "generate_data <- function(n=200, d=100, s=2, seed =42) \n",
    "{\n",
    "    set.seed(seed)\n",
    "    beta <- numeric(length = d)\n",
    "    beta [1:s] <- 1\n",
    "    X <- matrix(rnorm(n*d), nrow=n, ncol=d)\n",
    "    y <- c(X %*% beta) + rnorm(n)\n",
    "    list(X=X, y=y, beta=beta)\n",
    "}\n",
    "data <- generate_data(n=1000, d=400, s=4, seed =58)"
   ]
  },
  {
   "cell_type": "code",
   "execution_count": null,
   "id": "7b06a01b-1471-4a60-925f-8571ff15f95e",
   "metadata": {},
   "outputs": [],
   "source": [
    "l2.norm <- function(a) {sqrt(sum(a*a))}\n",
    "loss <- function(X, y, beta){0.5*l2.norm(X%*%beta-y)**2}\n",
    "\n",
    "gd_step.frac_acc<- function(x, y, beta, t, i, s=0.9)\n",
    "{\n",
    "    v <- tail(x,1) +(i-1)/(i+2)*tail(diffseries(beta, d=s),1)\n",
    "    return(v-t*t(X)%*%(X%*%v-y))\n",
    "}\n",
    "\n",
    "\n",
    "fit <- function(alg, X, y,beta_true=NULL,max_iter=50, t=1)\n",
    "{\n",
    "    d <- dim(X)[2]\n",
    "    beta = numeric(length=d)\n",
    "    betas = list(beta, beta)\n",
    "    loss <- NULL\n",
    "    error <- NULL\n",
    "    iter <- 0\n",
    "    t<-t/hess.loss.max(X)\n",
    "    while(iter<max_iter)\n",
    "    {\n",
    "        iter <- iter+1\n",
    "        y_hat <- X%*%beta\n",
    "        if(alg=='acc'){betas <- append(betas,list(gd_step.acc(X, y, beta, t)))}\n",
    "        else if(alg=='frac_acc'){beta <- gd_step.frac_acc(X, y, beta, t)}\n",
    "        else {stop('invalid algorithm')}\n",
    "        loss <- c(loss, loss(X, y, beta))\n",
    "        if(!is.null(beta_true))\n",
    "        {\n",
    "            log_loss <- log(tail(loss, 1))-log(loss(X, y, beta_true))\n",
    "            error <- c(error, log_loss)\n",
    "        }\n",
    "        if(iter==early_stop){break}\n",
    "    }\n",
    "    return(list(y_pred=X%*%beta, beta=beta, loss=loss/length(y),  error=error))\n",
    "}"
   ]
  }
 ],
 "metadata": {
  "kernelspec": {
   "display_name": "R",
   "language": "R",
   "name": "ir"
  },
  "language_info": {
   "codemirror_mode": "r",
   "file_extension": ".r",
   "mimetype": "text/x-r-source",
   "name": "R",
   "pygments_lexer": "r",
   "version": "4.1.2"
  }
 },
 "nbformat": 4,
 "nbformat_minor": 5
}

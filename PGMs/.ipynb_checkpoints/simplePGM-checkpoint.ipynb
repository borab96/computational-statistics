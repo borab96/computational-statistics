{
 "cells": [
  {
   "cell_type": "code",
   "execution_count": 13,
   "id": "2bea0f42-c727-4fb7-941d-df73234a911b",
   "metadata": {},
   "outputs": [],
   "source": [
    "import tensorflow as tf\n",
    "import tensorflow_probability as tfp\n",
    "import matplotlib.pyplot as plt"
   ]
  },
  {
   "cell_type": "code",
   "execution_count": 9,
   "id": "17a3dd3a-c485-4647-b8e2-190fdc1684c4",
   "metadata": {},
   "outputs": [],
   "source": [
    "def model():\n",
    "    weather = yield tfp.distributions.JointDistributionCoroutine.Root(tfp.distributions.Bernoulli(probs=0.3, name='weather'))\n",
    "    weather_to_happy = tf.constant([0.6, 0.9])\n",
    "    terminal = yield tfp.distributions.Bernoulli(probs=weather_to_happy[weather], name='happiness')\n"
   ]
  },
  {
   "cell_type": "code",
   "execution_count": 10,
   "id": "4e966f6c-15ce-412c-be6c-9d8998576d38",
   "metadata": {},
   "outputs": [
    {
     "data": {
      "text/plain": [
       "<tfp.distributions.JointDistributionCoroutineAutoBatched 'JointDistributionCoroutineAutoBatched' batch_shape=[] event_shape=StructTuple(\n",
       "  weather=[],\n",
       "  happiness=[]\n",
       ") dtype=StructTuple(\n",
       "  weather=int32,\n",
       "  happiness=int32\n",
       ")>"
      ]
     },
     "execution_count": 10,
     "metadata": {},
     "output_type": "execute_result"
    }
   ],
   "source": [
    "model_joint = tfp.distributions.JointDistributionCoroutineAutoBatched(model)\n",
    "model_joint"
   ]
  },
  {
   "cell_type": "code",
   "execution_count": 17,
   "id": "d6b2f660-a731-4d8f-9fa7-ea72ed8cbb87",
   "metadata": {},
   "outputs": [
    {
     "name": "stdout",
     "output_type": "stream",
     "text": [
      "WARNING:tensorflow:Note that RandomUniformInt inside pfor op may not give same output as inside a sequential loop.\n",
      "WARNING:tensorflow:Using a while_loop for converting StatelessRandomGetKeyCounter\n",
      "WARNING:tensorflow:Using a while_loop for converting StatelessRandomUniformV2\n",
      "WARNING:tensorflow:Using a while_loop for converting StridedSlice\n",
      "WARNING:tensorflow:Note that RandomUniformInt inside pfor op may not give same output as inside a sequential loop.\n",
      "WARNING:tensorflow:Using a while_loop for converting StatelessRandomGetKeyCounter\n",
      "WARNING:tensorflow:Using a while_loop for converting StatelessRandomUniformV2\n",
      "WARNING:tensorflow:5 out of the last 5 calls to <function pfor.<locals>.f at 0x0000024AD5DEC9D0> triggered tf.function retracing. Tracing is expensive and the excessive number of tracings could be due to (1) creating @tf.function repeatedly in a loop, (2) passing tensors with different shapes, (3) passing Python objects instead of tensors. For (1), please define your @tf.function outside of the loop. For (2), @tf.function has experimental_relax_shapes=True option that relaxes argument shapes that can avoid unnecessary retracing. For (3), please refer to https://www.tensorflow.org/guide/function#controlling_retracing and https://www.tensorflow.org/api_docs/python/tf/function for  more details.\n"
     ]
    }
   ],
   "source": [
    "data = model_joint.sample(100)\n"
   ]
  },
  {
   "cell_type": "markdown",
   "id": "ceb58c4b-d111-4fa3-b136-9d21b4043534",
   "metadata": {},
   "source": [
    "Take the model defined above as the generator. We now want to do parameter estimation using the data we sampled. \n",
    "\n",
    "$$\n",
    "\\log\\mathcal L(D) = \\sum_{i=0}^{N-1}\\log\\underbrace{p(W=w_i, H=h_{i})}_{p(w_i)p(h_i|w_i)}\n",
    "$$"
   ]
  },
  {
   "cell_type": "code",
   "execution_count": null,
   "id": "fbb07c6a-3e42-4f64-8f46-4e3472303879",
   "metadata": {},
   "outputs": [],
   "source": []
  }
 ],
 "metadata": {
  "kernelspec": {
   "display_name": "Python 3 (ipykernel)",
   "language": "python",
   "name": "python3"
  },
  "language_info": {
   "codemirror_mode": {
    "name": "ipython",
    "version": 3
   },
   "file_extension": ".py",
   "mimetype": "text/x-python",
   "name": "python",
   "nbconvert_exporter": "python",
   "pygments_lexer": "ipython3",
   "version": "3.9.7"
  }
 },
 "nbformat": 4,
 "nbformat_minor": 5
}

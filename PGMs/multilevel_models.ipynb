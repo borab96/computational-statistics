{
 "cells": [
  {
   "cell_type": "code",
   "execution_count": 8,
   "id": "6085c0bc-56aa-48ca-8a3e-ec94d440a1c1",
   "metadata": {},
   "outputs": [],
   "source": [
    "import collections\n",
    "import os\n",
    "import matplotlib as mpl\n",
    "import matplotlib.pyplot as plt\n",
    "import numpy as np\n",
    "import pandas as pd\n",
    "import seaborn as sns\n",
    "import warnings\n",
    "\n",
    "import tensorflow.compat.v2 as tf\n",
    "tf.enable_v2_behavior()\n",
    "\n",
    "import tensorflow_datasets as tfds\n",
    "import tensorflow_probability as tfp\n",
    "\n",
    "tfk = tf.keras\n",
    "tfkl = tf.keras.layers\n",
    "tfpl = tfp.layers\n",
    "tfd = tfp.distributions\n",
    "tfb = tfp.bijectors\n",
    "\n",
    "warnings.simplefilter('ignore')\n"
   ]
  },
  {
   "cell_type": "code",
   "execution_count": 9,
   "id": "f9fc9c10-03f4-462c-a629-d618403e3c03",
   "metadata": {},
   "outputs": [],
   "source": [
    "def load_and_preprocess_radon_dataset(state='MN'):  \n",
    "    \"\"\"Preprocess Radon dataset as done in \"Bayesian Data Analysis\" book.\n",
    "\n",
    "    We filter to Minnesota data (919 examples) and preprocess to obtain the\n",
    "    following features:\n",
    "    - `log_uranium_ppm`: Log of soil uranium measurements.\n",
    "    - `county`: Name of county in which the measurement was taken.\n",
    "    - `floor`: Floor of house (0 for basement, 1 for first floor) on which the\n",
    "    measurement was taken.\n",
    "\n",
    "    The target variable is `log_radon`, the log of the Radon measurement in the\n",
    "    house.\n",
    "    \"\"\"\n",
    "    ds = tfds.load('radon', split='train')\n",
    "    radon_data = tfds.as_dataframe(ds)\n",
    "    radon_data.rename(lambda s: s[9:] if s.startswith('feat') else s, axis=1, inplace=True)\n",
    "    df = radon_data[radon_data.state==state.encode()].copy()\n",
    "\n",
    "    # For any missing or invalid activity readings, we'll use a value of `0.1`.\n",
    "    df['radon'] = df.activity.apply(lambda x: x if x > 0. else 0.1)\n",
    "    # Make county names look nice. \n",
    "    df['county'] = df.county.apply(lambda s: s.decode()).str.strip().str.title()\n",
    "    # Remap categories to start from 0 and end at max(category).\n",
    "    county_name = sorted(df.county.unique())\n",
    "    df['county'] = df.county.astype(\n",
    "      pd.api.types.CategoricalDtype(categories=county_name)).cat.codes\n",
    "    county_name = list(map(str.strip, county_name))\n",
    "\n",
    "    df['log_radon'] = df['radon'].apply(np.log)\n",
    "    df['log_uranium_ppm'] = df['Uppm'].apply(np.log)\n",
    "    df = df[['idnum', 'log_radon', 'floor', 'county', 'log_uranium_ppm']]\n",
    "\n",
    "    return df, county_name"
   ]
  },
  {
   "cell_type": "code",
   "execution_count": 10,
   "id": "f39f154d-504a-4d83-a5e0-443b91c60330",
   "metadata": {},
   "outputs": [
    {
     "name": "stdout",
     "output_type": "stream",
     "text": [
      "\u001b[1mDownloading and preparing dataset Unknown size (download: Unknown size, generated: Unknown size, total: Unknown size) to C:\\Users\\Bora\\tensorflow_datasets\\radon\\1.0.0...\u001b[0m\n"
     ]
    },
    {
     "data": {
      "application/vnd.jupyter.widget-view+json": {
       "model_id": "5595a0211c0448ae921fe5aca4076ae0",
       "version_major": 2,
       "version_minor": 0
      },
      "text/plain": [
       "Dl Completed...: 0 url [00:00, ? url/s]"
      ]
     },
     "metadata": {},
     "output_type": "display_data"
    },
    {
     "data": {
      "application/vnd.jupyter.widget-view+json": {
       "model_id": "172caf0b92b947469573e7ef7ee68af8",
       "version_major": 2,
       "version_minor": 0
      },
      "text/plain": [
       "Dl Size...: 0 MiB [00:00, ? MiB/s]"
      ]
     },
     "metadata": {},
     "output_type": "display_data"
    },
    {
     "data": {
      "application/vnd.jupyter.widget-view+json": {
       "model_id": "",
       "version_major": 2,
       "version_minor": 0
      },
      "text/plain": [
       "Generating splits...:   0%|          | 0/1 [00:00<?, ? splits/s]"
      ]
     },
     "metadata": {},
     "output_type": "display_data"
    },
    {
     "data": {
      "application/vnd.jupyter.widget-view+json": {
       "model_id": "",
       "version_major": 2,
       "version_minor": 0
      },
      "text/plain": [
       "Generating train examples...: 0 examples [00:00, ? examples/s]"
      ]
     },
     "metadata": {},
     "output_type": "display_data"
    },
    {
     "data": {
      "application/vnd.jupyter.widget-view+json": {
       "model_id": "",
       "version_major": 2,
       "version_minor": 0
      },
      "text/plain": [
       "Shuffling C:\\Users\\Bora\\tensorflow_datasets\\radon\\1.0.0.incompleteST4RFL\\radon-train.tfrecord*...:   0%|      …"
      ]
     },
     "metadata": {},
     "output_type": "display_data"
    },
    {
     "name": "stdout",
     "output_type": "stream",
     "text": [
      "\u001b[1mDataset radon downloaded and prepared to C:\\Users\\Bora\\tensorflow_datasets\\radon\\1.0.0. Subsequent calls will reuse this data.\u001b[0m\n"
     ]
    }
   ],
   "source": [
    "radon, county_name = load_and_preprocess_radon_dataset()\n",
    "num_counties = len(county_name)\n",
    "num_observations = len(radon)"
   ]
  },
  {
   "cell_type": "code",
   "execution_count": 11,
   "id": "a9fe26d0-b072-4da4-b53d-8cef8492c034",
   "metadata": {},
   "outputs": [],
   "source": [
    "county = tf.convert_to_tensor(radon['county'], dtype=tf.int32)\n",
    "floor = tf.convert_to_tensor(radon['floor'], dtype=tf.float32)\n",
    "log_radon = tf.convert_to_tensor(radon['log_radon'], dtype=tf.float32)\n",
    "log_uranium = tf.convert_to_tensor(radon['log_uranium_ppm'], dtype=tf.float32)"
   ]
  },
  {
   "cell_type": "code",
   "execution_count": 12,
   "id": "fc2b9d70-9372-4353-a41b-8b8209da7e7d",
   "metadata": {},
   "outputs": [
    {
     "data": {
      "text/html": [
       "<div>\n",
       "<style scoped>\n",
       "    .dataframe tbody tr th:only-of-type {\n",
       "        vertical-align: middle;\n",
       "    }\n",
       "\n",
       "    .dataframe tbody tr th {\n",
       "        vertical-align: top;\n",
       "    }\n",
       "\n",
       "    .dataframe thead th {\n",
       "        text-align: right;\n",
       "    }\n",
       "</style>\n",
       "<table border=\"1\" class=\"dataframe\">\n",
       "  <thead>\n",
       "    <tr style=\"text-align: right;\">\n",
       "      <th></th>\n",
       "      <th>idnum</th>\n",
       "      <th>log_radon</th>\n",
       "      <th>floor</th>\n",
       "      <th>county</th>\n",
       "      <th>log_uranium_ppm</th>\n",
       "    </tr>\n",
       "  </thead>\n",
       "  <tbody>\n",
       "    <tr>\n",
       "      <th>8</th>\n",
       "      <td>5161</td>\n",
       "      <td>1.791759</td>\n",
       "      <td>0</td>\n",
       "      <td>6</td>\n",
       "      <td>0.271614</td>\n",
       "    </tr>\n",
       "    <tr>\n",
       "      <th>29</th>\n",
       "      <td>5926</td>\n",
       "      <td>2.501436</td>\n",
       "      <td>0</td>\n",
       "      <td>79</td>\n",
       "      <td>-0.147484</td>\n",
       "    </tr>\n",
       "    <tr>\n",
       "      <th>32</th>\n",
       "      <td>5793</td>\n",
       "      <td>-0.223144</td>\n",
       "      <td>0</td>\n",
       "      <td>69</td>\n",
       "      <td>-0.474674</td>\n",
       "    </tr>\n",
       "    <tr>\n",
       "      <th>39</th>\n",
       "      <td>5829</td>\n",
       "      <td>1.193922</td>\n",
       "      <td>0</td>\n",
       "      <td>69</td>\n",
       "      <td>-0.474674</td>\n",
       "    </tr>\n",
       "    <tr>\n",
       "      <th>60</th>\n",
       "      <td>5231</td>\n",
       "      <td>1.064711</td>\n",
       "      <td>0</td>\n",
       "      <td>17</td>\n",
       "      <td>-0.633391</td>\n",
       "    </tr>\n",
       "  </tbody>\n",
       "</table>\n",
       "</div>"
      ],
      "text/plain": [
       "    idnum  log_radon  floor  county  log_uranium_ppm\n",
       "8    5161   1.791759      0       6         0.271614\n",
       "29   5926   2.501436      0      79        -0.147484\n",
       "32   5793  -0.223144      0      69        -0.474674\n",
       "39   5829   1.193922      0      69        -0.474674\n",
       "60   5231   1.064711      0      17        -0.633391"
      ]
     },
     "execution_count": 12,
     "metadata": {},
     "output_type": "execute_result"
    }
   ],
   "source": [
    "radon.head()"
   ]
  },
  {
   "cell_type": "code",
   "execution_count": 13,
   "id": "0b8e9997-2535-4f78-8755-a8175e443312",
   "metadata": {},
   "outputs": [
    {
     "data": {
      "image/png": "[encoded data removed]",
      "text/plain": [
       "<Figure size 432x288 with 1 Axes>"
      ]
     },
     "metadata": {
      "needs_background": "light"
     },
     "output_type": "display_data"
    }
   ],
   "source": [
    "plt.hist(log_radon.numpy(), bins=25, edgecolor='white')\n",
    "plt.xlabel(\"Histogram of Radon levels (Log Scale)\")\n",
    "plt.show()"
   ]
  },
  {
   "cell_type": "markdown",
   "id": "51f34df3-50d5-440a-8377-5f34461ee330",
   "metadata": {},
   "source": [
    "## Complete pooling"
   ]
  },
  {
   "cell_type": "code",
   "execution_count": 14,
   "id": "0535335d-9da3-4a66-8a04-120f511fe42a",
   "metadata": {},
   "outputs": [],
   "source": [
    "@tf.function\n",
    "def affine(x, kernel_diag, bias=tf.zeros([])):\n",
    "    \"\"\"`kernel_diag * x + bias` with broadcasting.\"\"\"\n",
    "    kernel_diag = tf.ones_like(x) * kernel_diag\n",
    "    bias = tf.ones_like(x) * bias\n",
    "    return x * kernel_diag + bias"
   ]
  },
  {
   "cell_type": "code",
   "execution_count": 15,
   "id": "9634e1e2-7242-4d97-950b-cb64767d19e1",
   "metadata": {},
   "outputs": [],
   "source": [
    "def pooled_model(floor):\n",
    "    \"\"\"Creates a joint distribution representing our generative process.\"\"\"\n",
    "    return tfd.JointDistributionSequential([\n",
    "      tfd.Normal(loc=0., scale=1e5),  # alpha\n",
    "      tfd.Normal(loc=0., scale=1e5),  # beta\n",
    "      tfd.HalfCauchy(loc=0., scale=5),  # sigma\n",
    "      lambda s, b1, b0: tfd.MultivariateNormalDiag(  # y\n",
    "          loc=affine(floor, b1[..., tf.newaxis], b0[..., tf.newaxis]),\n",
    "          scale_identity_multiplier=s)\n",
    "    ])\n",
    "\n",
    "\n",
    "@tf.function\n",
    "def pooled_log_prob(alpha, beta, sigma):\n",
    "    \"\"\"Computes `joint_log_prob` pinned at `log_radon`.\"\"\"\n",
    "    return pooled_model(floor).log_prob([alpha, beta, sigma, log_radon])\n"
   ]
  },
  {
   "cell_type": "code",
   "execution_count": 16,
   "id": "f9060214-5db2-452f-9dd8-bfd6d0701c27",
   "metadata": {},
   "outputs": [],
   "source": [
    "@tf.function\n",
    "def sample_pooled(num_chains, num_results, num_burnin_steps, num_observations):\n",
    "    \"\"\"Samples from the pooled model.\"\"\"\n",
    "    hmc = tfp.mcmc.HamiltonianMonteCarlo(\n",
    "      target_log_prob_fn=pooled_log_prob,\n",
    "      num_leapfrog_steps=10,\n",
    "      step_size=0.005)\n",
    "\n",
    "    initial_state = [\n",
    "      tf.zeros([num_chains], name='init_alpha'),\n",
    "      tf.zeros([num_chains], name=/'init_beta'),\n",
    "      tf.ones([num_chains], name='init_sigma')\n",
    "    ]\n",
    "\n",
    "    # Constrain `sigma` to the positive real axis. Other variables are\n",
    "    # unconstrained.\n",
    "    unconstraining_bijectors = [\n",
    "      tfb.Identity(),  # alpha\n",
    "      tfb.Identity(),  # beta\n",
    "      tfb.Exp()        # sigma\n",
    "    ]\n",
    "    kernel = tfp.mcmc.TransformedTransitionKernel(\n",
    "      inner_kernel=hmc, bijector=unconstraining_bijectors)\n",
    "\n",
    "    samples, kernel_results = tfp.mcmc.sample_chain(\n",
    "      num_results=num_results,\n",
    "      num_burnin_steps=num_burnin_steps,\n",
    "      current_state=initial_state,\n",
    "      kernel=kernel)\n",
    "\n",
    "    acceptance_probs = tf.reduce_mean(\n",
    "      tf.cast(kernel_results.inner_results.is_accepted, tf.float32), axis=0)\n",
    "\n",
    "    return samples, acceptance_probs"
   ]
  },
  {
   "cell_type": "code",
   "execution_count": 17,
   "id": "664d929d-3d65-4a05-9e93-3244d8caa510",
   "metadata": {},
   "outputs": [
    {
     "name": "stdout",
     "output_type": "stream",
     "text": [
      "WARNING:tensorflow:From C:\\Users\\Bora\\anaconda3\\envs\\r4-base\\lib\\site-packages\\tensorflow_probability\\python\\distributions\\distribution.py:342: calling MultivariateNormalDiag.__init__ (from tensorflow_probability.python.distributions.mvn_diag) with scale_identity_multiplier is deprecated and will be removed after 2020-01-01.\n",
      "Instructions for updating:\n",
      "`scale_identity_multiplier` is deprecated; please combine it into `scale_diag` directly instead.\n"
     ]
    },
    {
     "name": "stderr",
     "output_type": "stream",
     "text": [
      "WARNING:tensorflow:From C:\\Users\\Bora\\anaconda3\\envs\\r4-base\\lib\\site-packages\\tensorflow_probability\\python\\distributions\\distribution.py:342: calling MultivariateNormalDiag.__init__ (from tensorflow_probability.python.distributions.mvn_diag) with scale_identity_multiplier is deprecated and will be removed after 2020-01-01.\n",
      "Instructions for updating:\n",
      "`scale_identity_multiplier` is deprecated; please combine it into `scale_diag` directly instead.\n"
     ]
    },
    {
     "name": "stdout",
     "output_type": "stream",
     "text": [
      "Acceptance Probabilities for each chain:  [0.994 0.991 0.994 0.994]\n"
     ]
    }
   ],
   "source": [
    "PooledModel = collections.namedtuple('PooledModel', ['alpha', 'beta', 'sigma'])\n",
    "\n",
    "samples, acceptance_probs = sample_pooled(\n",
    "    num_chains=4,\n",
    "    num_results=1000,\n",
    "    num_burnin_steps=1000,\n",
    "    num_observations=num_observations)\n",
    "\n",
    "print('Acceptance Probabilities for each chain: ', acceptance_probs.numpy())\n",
    "pooled_samples = PooledModel._make(samples)\n"
   ]
  },
  {
   "cell_type": "code",
   "execution_count": null,
   "id": "ec7aa143-218f-4916-9636-f149be422184",
   "metadata": {},
   "outputs": [],
   "source": []
  }
 ],
 "metadata": {
  "kernelspec": {
   "display_name": "Python 3 (ipykernel)",
   "language": "python",
   "name": "python3"
  },
  "language_info": {
   "codemirror_mode": {
    "name": "ipython",
    "version": 3
   },
   "file_extension": ".py",
   "mimetype": "text/x-python",
   "name": "python",
   "nbconvert_exporter": "python",
   "pygments_lexer": "ipython3",
   "version": "3.9.7"
  }
 },
 "nbformat": 4,
 "nbformat_minor": 5
}

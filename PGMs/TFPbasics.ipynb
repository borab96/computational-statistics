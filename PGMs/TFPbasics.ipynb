{
 "cells": [
  {
   "cell_type": "code",
   "execution_count": 1,
   "id": "adc3582a-2bbe-4ac0-9331-403c327e8ed6",
   "metadata": {},
   "outputs": [],
   "source": [
    "import tensorflow_probability as tfp\n",
    "import tensorflow as tf\n",
    "import matplotlib.pyplot as plt"
   ]
  },
  {
   "cell_type": "code",
   "execution_count": 3,
   "id": "ea46e9b4-0f8b-4064-91c4-b9660196fdc2",
   "metadata": {},
   "outputs": [
    {
     "data": {
      "text/plain": [
       "<tf.Tensor: shape=(20,), dtype=int32, numpy=\n",
       "array([  0,  10,  20,  30,  40,  50,  60,  70,  80,  90, 100, 110, 120,\n",
       "       130, 140, 150, 160, 170, 180, 190])>"
      ]
     },
     "execution_count": 3,
     "metadata": {},
     "output_type": "execute_result"
    }
   ],
   "source": [
    "num_trial = [i for i in range(0, 200, 10)]\n",
    "num_trial = tf.constant(num_trial)\n",
    "num_trial"
   ]
  },
  {
   "cell_type": "code",
   "execution_count": 10,
   "id": "c59256d7-1308-45a5-bce1-10da2882b88e",
   "metadata": {},
   "outputs": [
    {
     "data": {
      "text/plain": [
       "<tf.Tensor: shape=(20,), dtype=int32, numpy=\n",
       "array([  0,   6,  14,  20,  22,  28,  34,  40,  45,  50,  58,  64,  70,\n",
       "        74,  80,  85,  89,  95, 101, 106])>"
      ]
     },
     "execution_count": 10,
     "metadata": {},
     "output_type": "execute_result"
    }
   ],
   "source": [
    "rv_coin_flip_prior = tfp.distributions.Bernoulli(probs=0.5, dtype=tf.int32)\n",
    "data = rv_coin_flip_prior.sample(num_trial[-1])\n",
    "data = tf.pad(data,tf.constant([[1, 0,]]),\"CONSTANT\")\n",
    "cumulative_headcounts = tf.gather(tf.cumsum(data), num_trial)\n",
    "cumulative_headcounts"
   ]
  },
  {
   "cell_type": "code",
   "execution_count": null,
   "id": "c37fbc9f-4b76-4080-8f90-24e98bda0bd9",
   "metadata": {},
   "outputs": [],
   "source": []
  }
 ],
 "metadata": {
  "kernelspec": {
   "display_name": "Python 3 (ipykernel)",
   "language": "python",
   "name": "python3"
  },
  "language_info": {
   "codemirror_mode": {
    "name": "ipython",
    "version": 3
   },
   "file_extension": ".py",
   "mimetype": "text/x-python",
   "name": "python",
   "nbconvert_exporter": "python",
   "pygments_lexer": "ipython3",
   "version": "3.9.7"
  }
 },
 "nbformat": 4,
 "nbformat_minor": 5
}

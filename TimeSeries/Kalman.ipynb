{
 "cells": [
  {
   "cell_type": "code",
   "execution_count": 7,
   "id": "8c0213f5-901e-4cf0-975f-730ca138137f",
   "metadata": {},
   "outputs": [],
   "source": [
    "import tensorflow_probability as tfp\n",
    "import tensorflow as tf\n",
    "import matplotlib.pyplot as plt\n",
    "tfd = tfp.distributions"
   ]
  },
  {
   "cell_type": "code",
   "execution_count": 4,
   "id": "9e5a6ddb-9464-4a3e-81c0-44721d37dcc1",
   "metadata": {},
   "outputs": [],
   "source": [
    "ndims = 2\n",
    "step_std = 1.0\n",
    "noise_std = 5.0\n",
    "model = tfd.LinearGaussianStateSpaceModel(\n",
    "  num_timesteps=100,\n",
    "  transition_matrix=tf.linalg.LinearOperatorIdentity(ndims),\n",
    "  transition_noise=tfd.MultivariateNormalDiag(\n",
    "   scale_diag=step_std**2 * tf.ones([ndims])),\n",
    "  observation_matrix=tf.linalg.LinearOperatorIdentity(ndims),\n",
    "  observation_noise=tfd.MultivariateNormalDiag(\n",
    "   scale_diag=noise_std**2 * tf.ones([ndims])),\n",
    "  initial_state_prior=tfd.MultivariateNormalDiag(\n",
    "   scale_diag=tf.ones([ndims])))"
   ]
  },
  {
   "cell_type": "code",
   "execution_count": 9,
   "id": "b3ca2273-540e-4705-99e8-e5ece94ac36d",
   "metadata": {},
   "outputs": [],
   "source": [
    "x = model.sample(500) # Sample from the prior on sequences of observations.\n",
    "lp = model.log_prob(x) # Marginal likelihood of a (batch of) observations.\n",
    "\n",
    "# Compute the filtered posterior on latent states given observations,\n",
    "# and extract the mean and covariance for the current (final) timestep.\n",
    "_, filtered_means, filtered_covs, _, _, _, _ = model.forward_filter(x)\n",
    "current_location_posterior = tfd.MultivariateNormalTriL(\n",
    "              loc=filtered_means[..., -1, :],\n",
    "              scale_tril=tf.linalg.cholesky(filtered_covs[..., -1, :, :]))\n",
    "\n",
    "# Run a smoothing recursion to extract posterior marginals for locations\n",
    "# at previous timesteps.\n",
    "posterior_means, posterior_covs = model.posterior_marginals(x)\n",
    "initial_location_posterior = tfd.MultivariateNormalTriL(\n",
    "              loc=posterior_means[..., 0, :],\n",
    "              scale_tril=tf.linalg.cholesky(posterior_covs[..., 0, :, :]))"
   ]
  },
  {
   "cell_type": "code",
   "execution_count": 11,
   "id": "13d63a99-7fd2-4609-a3b6-5c6bfad8d152",
   "metadata": {},
   "outputs": [
    {
     "data": {
      "text/plain": [
       "<tf.Tensor: shape=(500, 100, 2), dtype=float32, numpy=\n",
       "array([[[-14.266793 ,  17.200935 ],\n",
       "        [-47.576538 , -16.495077 ],\n",
       "        [  4.095273 ,  45.26618  ],\n",
       "        ...,\n",
       "        [-31.606743 , -44.571392 ],\n",
       "        [  8.8823185,  30.940338 ],\n",
       "        [-31.081799 ,  38.64265  ]],\n",
       "\n",
       "       [[-17.230404 , -14.700854 ],\n",
       "        [ -3.5846717,  -5.9381866],\n",
       "        [-13.28781  ,  10.133196 ],\n",
       "        ...,\n",
       "        [ 10.808541 , -49.71431  ],\n",
       "        [ 33.261906 , -30.232077 ],\n",
       "        [  6.963492 ,   2.7525597]],\n",
       "\n",
       "       [[-12.644489 ,   2.675743 ],\n",
       "        [ 22.114353 , -15.394979 ],\n",
       "        [ -6.476296 ,  -1.0234746],\n",
       "        ...,\n",
       "        [ -8.397209 ,  12.330747 ],\n",
       "        [-41.00025  , -14.831768 ],\n",
       "        [-45.78073  , -45.20452  ]],\n",
       "\n",
       "       ...,\n",
       "\n",
       "       [[-13.383758 , -15.684601 ],\n",
       "        [  1.9122952,   7.565019 ],\n",
       "        [ 22.370209 , -31.473108 ],\n",
       "        ...,\n",
       "        [-22.579266 , -11.216031 ],\n",
       "        [ -3.8216164,  29.186014 ],\n",
       "        [ 66.99002  ,   6.829892 ]],\n",
       "\n",
       "       [[ 15.468422 ,  -6.899767 ],\n",
       "        [ -0.7188756, -19.922096 ],\n",
       "        [ 32.11397  ,  22.05189  ],\n",
       "        ...,\n",
       "        [-16.60331  , -38.277275 ],\n",
       "        [-10.011698 , -31.434364 ],\n",
       "        [-10.041145 ,  10.573484 ]],\n",
       "\n",
       "       [[ 17.59012  , -13.605316 ],\n",
       "        [  4.342699 , -19.105421 ],\n",
       "        [-13.614824 ,  -7.471116 ],\n",
       "        ...,\n",
       "        [ 26.236078 ,  -2.9180639],\n",
       "        [ -2.5789013,  -6.9433627],\n",
       "        [  4.3773236,  -7.3899307]]], dtype=float32)>"
      ]
     },
     "execution_count": 11,
     "metadata": {},
     "output_type": "execute_result"
    }
   ],
   "source": [
    "x"
   ]
  },
  {
   "cell_type": "code",
   "execution_count": 31,
   "id": "437eac0e-7ea8-4a9f-a28f-c91a06b832b9",
   "metadata": {},
   "outputs": [],
   "source": [
    "def permute(vec):\n",
    "    out_list = []\n",
    "    if len(vec)==0:\n",
    "        return []\n",
    "    if len(vec)==1:\n",
    "        return [vec]\n",
    "    for i in range(0, len(vec)):\n",
    "        popped_i = vec[:i] + vec[i+1:]\n",
    "        # sub_list = permute(popped_i)\n",
    "        for sub_list in permute(popped_i):\n",
    "            out_list.append([vec[i]]+sub_list)\n",
    "    return out_list\n",
    "        \n",
    "        \n",
    "    "
   ]
  },
  {
   "cell_type": "code",
   "execution_count": 33,
   "id": "8c0d9512-fe36-42c3-af0a-ba533091ef68",
   "metadata": {},
   "outputs": [
    {
     "data": {
      "text/plain": [
       "[[1, 2, 3, 5],\n",
       " [1, 2, 5, 3],\n",
       " [1, 3, 2, 5],\n",
       " [1, 3, 5, 2],\n",
       " [1, 5, 2, 3],\n",
       " [1, 5, 3, 2],\n",
       " [2, 1, 3, 5],\n",
       " [2, 1, 5, 3],\n",
       " [2, 3, 1, 5],\n",
       " [2, 3, 5, 1],\n",
       " [2, 5, 1, 3],\n",
       " [2, 5, 3, 1],\n",
       " [3, 1, 2, 5],\n",
       " [3, 1, 5, 2],\n",
       " [3, 2, 1, 5],\n",
       " [3, 2, 5, 1],\n",
       " [3, 5, 1, 2],\n",
       " [3, 5, 2, 1],\n",
       " [5, 1, 2, 3],\n",
       " [5, 1, 3, 2],\n",
       " [5, 2, 1, 3],\n",
       " [5, 2, 3, 1],\n",
       " [5, 3, 1, 2],\n",
       " [5, 3, 2, 1]]"
      ]
     },
     "execution_count": 33,
     "metadata": {},
     "output_type": "execute_result"
    }
   ],
   "source": [
    "permute([1,2,3, 5])"
   ]
  },
  {
   "cell_type": "code",
   "execution_count": null,
   "id": "f0ac92b9-4bb8-4dbc-aa04-b9ad2a251c36",
   "metadata": {},
   "outputs": [],
   "source": []
  },
  {
   "cell_type": "code",
   "execution_count": null,
   "id": "82294fc4-a8f4-478f-8095-d0c70b011e83",
   "metadata": {},
   "outputs": [],
   "source": []
  }
 ],
 "metadata": {
  "kernelspec": {
   "display_name": "Python 3 (ipykernel)",
   "language": "python",
   "name": "python3"
  },
  "language_info": {
   "codemirror_mode": {
    "name": "ipython",
    "version": 3
   },
   "file_extension": ".py",
   "mimetype": "text/x-python",
   "name": "python",
   "nbconvert_exporter": "python",
   "pygments_lexer": "ipython3",
   "version": "3.9.7"
  }
 },
 "nbformat": 4,
 "nbformat_minor": 5
}

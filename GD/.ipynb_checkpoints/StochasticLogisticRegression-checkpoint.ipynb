{
 "cells": [
  {
   "cell_type": "markdown",
   "id": "938e235f-11f9-4eed-b041-8f95661d7808",
   "metadata": {},
   "source": [
    "# Convergence of SGD\n",
    "\n",
    "Let the SGD update be\n",
    "$$\n",
    "x^{k+1}=x^{k}-t_k\\nabla_xF_{\\xi^k}(x).\n",
    "$$\n",
    "Assume $f$ is convex and that $\\mathbb E[\\|\\Delta F\\|^2]\\leq \\sigma^2$. "
   ]
  },
  {
   "cell_type": "markdown",
   "id": "983c90a0-352e-4a28-b9c0-b6ee7fff19ca",
   "metadata": {},
   "source": [
    "We start by recalling the following\n",
    "$$\n",
    "\\|x^*-x^{k+1}\\|^2=\\|x^*-x^{k}\\|^2-2t_k\\langle x^k-x^*,\\nabla F(x^k))+t_k^2\\|\\nabla F(x^k)\\|^2\n",
    "$$\n",
    "We take the expectation value of both sides\n",
    "\\begin{align*}\n",
    "\\mathbb E[\\|x^*-x^{k+1}\\|^2]&=\\mathbb E[\\|x^*-x^{k}\\|^2]-\\mathbb E[x^*,\\nabla f(x^k))]+t_k^2\\mathbb E[\\|\\nabla F(x^k)\\|^2]\\\\\n",
    "\\mathbb E[\\|x^*-x^{k+1}\\|^2]&\\leq\\mathbb E[\\|x^*-x^{k}\\|^2]-\\mathbb E[\\langle x^*,\\nabla f(x^k)\\rangle]+t_k^2\\sigma^2\n",
    "\\end{align*}\n",
    "Here,\n",
    "$$\n",
    "\\mathbb E[\\langle x^*,\\nabla f(x^k)\\rangle]\\geq \\mathbb E[f(x^k)-f(x^*)]\n",
    "$$\n",
    "also holds by repeated expectation."
   ]
  },
  {
   "cell_type": "markdown",
   "id": "a4ce6da6-81a8-4eb7-b530-b9a2fd815442",
   "metadata": {},
   "source": [
    "# Comparison of accelerated GD, SGD and SVRG for logistic regression\n",
    "\n",
    "We have previously outlined how accelerated GD works a number of times so I will omit that discussion here. \n",
    "\n",
    "## The stochastic gradient descent step\n",
    "\n",
    "Instead of running the entire batch of data through the usual descent algorithm, one can randomly choose a small batch of data to compute gradients with. \n",
    "\n",
    "The algorithm starts with a random sampling of data to construct the mini batch. One can in principle draw a single element at random too but the convergence and stability of the algorithm suffers. \n",
    "\n",
    "Once a random batch is chosen, one computes the update\n",
    "$$\n",
    "x^{k+1} =x^k-t\\nabla F(x)\n",
    "$$\n",
    "where $F$ is now a stochastic approximation of $f(x)$. In practice, this is the gradient of $f$ evaluated on the smaller random batch.\n",
    "\n",
    "## The stochastic variance reduced gradient descent\n",
    "\n",
    "Intuitively, SVRG can be seen as an acceleration of SGD. The modified update is as follows:\n",
    "$$\n",
    "x^{k+1} = x^{k}-t(\\nabla F(x^k)-\\nabla F(\\eta)-\\mathbb E[\\nabla F(\\eta)|x^{k}])\n",
    "$$\n",
    "where $\\eta$ is a snapshot of the mini-batch that is updated once very fixed number of iterations. The heuristic here is simply that we are updating our variable randomly but with a coarser grain by keeping a rolling average of $\\nabla F$.\n"
   ]
  },
  {
   "cell_type": "code",
   "execution_count": 587,
   "id": "c0dfcce3-a77e-48a8-9a8e-b4a44179a05b",
   "metadata": {},
   "outputs": [],
   "source": [
    "# library(reshape2)\n",
    "library(ggplot2)\n",
    "library(tibble)\n",
    "suppressWarnings(library(microbenchmark))"
   ]
  },
  {
   "cell_type": "code",
   "execution_count": 551,
   "id": "4332b66d-429c-4eb3-b58c-819fbb684f16",
   "metadata": {},
   "outputs": [],
   "source": [
    "stable.sigmoid <- function(x) \n",
    "{\n",
    "    if (x >= 0) \n",
    "        {1 / (1 + exp(-x))}\n",
    "    else \n",
    "        {exp(x) / (1 + exp(x))}\n",
    "}\n",
    "sigmoid <- function(x) {sapply(x, stable.sigmoid)}\n",
    "\n",
    "logreg.nll <- function(X, y, beta) \n",
    "{\n",
    "    y.hat <- X%*%beta\n",
    "    -sum(y * y.hat + log(sigmoid(-y.hat )))\n",
    "}\n",
    "\n",
    "grad.beta <- function(X, y, beta) {-as.numeric(c(y - sigmoid(X %*% beta)) %*% X)}\n",
    "\n",
    "l2.norm <- function(a) {sqrt(sum(a*a))}\n",
    "\n",
    "hess.loss.max <- function(X)\n",
    "{\n",
    "    hess.loss = 2 * (t(X) %*% X)\n",
    "    hess.ev = eigen(hess.loss)$values\n",
    "    return(max(hess.ev))\n",
    "}"
   ]
  },
  {
   "cell_type": "code",
   "execution_count": 552,
   "id": "411706c6-ce66-4343-95fc-e7e689f6c867",
   "metadata": {},
   "outputs": [],
   "source": [
    "generate_data <- function(n, d, seed = 42) \n",
    "{\n",
    "    set.seed(seed)\n",
    "    X <- matrix(rnorm(n*d), nrow = n, ncol = d)\n",
    "    beta <- rep(1 / sqrt(d), d)\n",
    "    y <- rbinom(n, size = 1, sigmoid(X %*% beta))\n",
    "    list(X=X, y=y, beta=beta)\n",
    "}\n",
    "data <- generate_data(2000, 20)"
   ]
  },
  {
   "cell_type": "code",
   "execution_count": 636,
   "id": "252bb4d8-f6a9-47a5-bb33-b15083c5bfb2",
   "metadata": {},
   "outputs": [],
   "source": [
    "gd_step.accelerated <- function(X, y, beta_, beta_prev, t, k)\n",
    "{\n",
    "    v <- beta_+(k/(k+3))*(beta_-beta_prev)\n",
    "    return(v-t*grad.beta(X, y, v))\n",
    "}   \n",
    "\n",
    "gd_step.SGD <- function(X, y, beta_, t, batch_size)\n",
    "{\n",
    "    shuffle.idx <- sample(1:dim(X)[1], batch_size, replace=FALSE)\n",
    "    X <- X[shuffle.idx, ]\n",
    "    y <- y[shuffle.idx]\n",
    "    return(beta_-t*grad.beta(X, y, beta_))\n",
    "}\n",
    "\n",
    "gd_step.SVRG <- function(X, y, beta_, beta_prev, eta, batch_size, update_freq)\n",
    "{\n",
    "    mu <- grad.beta(X, y, beta_prev)\n",
    "    for (j in 1:update_freq)\n",
    "    {\n",
    "        shuffle.idx <- sample(1:dim(X)[1], batch_size, replace=FALSE)\n",
    "        X_ <- X[shuffle.idx, ]\n",
    "        y_ <- y[shuffle.idx]\n",
    "        beta_ <- beta_-eta*(grad.beta(X_, y_, beta_)-grad.beta(X_, y_, beta_prev)+mu)\n",
    "    }\n",
    "    return(beta_)\n",
    "}"
   ]
  },
  {
   "cell_type": "code",
   "execution_count": 637,
   "id": "6c8aa9f1-db87-46db-93a4-7ac8af0ec056",
   "metadata": {},
   "outputs": [],
   "source": [
    "fit.accelerataed <- function(data, t=1, max.iter=200)\n",
    "{\n",
    "    t<-t/hess.loss.max(data$X)\n",
    "    m <- dim(data$X)[2]\n",
    "    beta <- numeric(m)\n",
    "    beta.cache <- list(current=beta, prev=beta)\n",
    "    error <- NULL\n",
    "    loss <- NULL\n",
    "    for (i in 1:max.iter) \n",
    "    {\n",
    "        beta <- gd_step.accelerated(data$X, data$y, beta.cache$current, beta.cache$prev, t, i)\n",
    "        beta.cache$prev <-beta.cache$current\n",
    "        beta.cache$current <- beta\n",
    "        error <- c(error, log(l2.norm(data$beta-beta)))\n",
    "        loss <- c(loss, logreg.nll(data$X, data$y, beta))\n",
    "    }\n",
    "    return(list(beta=beta, loss=loss, error=error))\n",
    "}"
   ]
  },
  {
   "cell_type": "code",
   "execution_count": 638,
   "id": "d0d7b730-cc8d-4d24-bcc4-215894e49261",
   "metadata": {},
   "outputs": [],
   "source": [
    "fit.SGD <- function(data, t=1, max.iter=200, batch_size=50)\n",
    "{\n",
    "    t<-t/hess.loss.max(data$X)\n",
    "    m <- dim(data$X)[2]\n",
    "    n <- dim(data$X)[1]\n",
    "    beta <- numeric(m)\n",
    "    error <- NULL\n",
    "    loss <- NULL\n",
    "    for (i in 1:max.iter) \n",
    "    {   \n",
    "        beta <- gd_step.SGD(data$X, data$y, beta, t, batch_size)\n",
    "        error <- c(error, log(l2.norm(data$beta-beta)))\n",
    "        loss <- c(loss, logreg.nll(data$X, data$y, beta))\n",
    "    }\n",
    "    return(list(beta=beta, loss=loss, error=error))\n",
    "}"
   ]
  },
  {
   "cell_type": "code",
   "execution_count": 639,
   "id": "d8d52226-6ec0-415e-b161-84e0c6391945",
   "metadata": {},
   "outputs": [],
   "source": [
    "fit.SVRG <- function(data, t=1, batch_size=10, update_freq=10, max.iter=200)\n",
    "{\n",
    "    t<-t/hess.loss.max(data$X)\n",
    "    m <- dim(data$X)[2]\n",
    "    beta <- numeric(m)\n",
    "    beta.cache <- list(current=beta, prev=beta)\n",
    "    error <- NULL\n",
    "    loss <- NULL\n",
    "    for (i in 1:max.iter) \n",
    "    {\n",
    "        beta <- gd_step.SVRG(data$X, data$y, beta.cache$current, beta.cache$prev, t, batch_size, update_freq)\n",
    "        beta.cache$prev <-beta.cache$current\n",
    "        beta.cache$current <- beta\n",
    "        error <- c(error, log(l2.norm(data$beta-beta)))\n",
    "        loss <- c(loss, logreg.nll(data$X, data$y, beta))\n",
    "    }\n",
    "    return(list(beta=beta, loss=loss, error=error))\n",
    "}"
   ]
  },
  {
   "cell_type": "code",
   "execution_count": 640,
   "id": "6aac07a5-440a-48c2-b7fe-ae7f0f57ffe1",
   "metadata": {},
   "outputs": [],
   "source": [
    "batch_size <- 40\n",
    "model.accelerated <- fit.accelerataed(data, 1)\n",
    "model.SGD <- fit.SGD(data, 10, batch_size=batch_size)\n",
    "model.SVRG <- fit.SVRG(data, 1, batch_size=batch_size, update_freq =10)"
   ]
  },
  {
   "cell_type": "code",
   "execution_count": 641,
   "id": "8a623d92-3c6c-4238-bb2b-a8ea65cdd17d",
   "metadata": {},
   "outputs": [
    {
     "data": {
      "text/html": [
       "<strong>null device:</strong> 1"
      ],
      "text/latex": [
       "\\textbf{null device:} 1"
      ],
      "text/markdown": [
       "**null device:** 1"
      ],
      "text/plain": [
       "null device \n",
       "          1 "
      ]
     },
     "metadata": {},
     "output_type": "display_data"
    },
    {
     "data": {
      "image/png": "[encoded data removed]",
      "text/plain": [
       "plot without title"
      ]
     },
     "metadata": {
      "image/png": {
       "height": 420,
       "width": 420
      }
     },
     "output_type": "display_data"
    }
   ],
   "source": [
    "losses <- tibble(n.iter=1:length(model.accelerated$loss),\n",
    "                 acceleratedGD = model.accelerated$error, \n",
    "                 SGD=model.SGD$error,\n",
    "                 SVRG=model.SVRG$error)\n",
    "# pdf('stochastic_conv.pdf', width=10, height =6)\n",
    "ggplot(data=losses, aes(x=n.iter)) +\n",
    "geom_line(aes(y=acceleratedGD , color='accelerated'), lwd=1.5) +\n",
    "geom_line(aes(y=SGD , color='SGD'), lwd=1.5) +\n",
    "geom_line(aes(y=SVRG, color='SVRG'), lwd=1.5) +\n",
    "ylab('Log error') +\n",
    "xlab('epoch ') +\n",
    "theme_bw() +\n",
    "theme(legend.position='bottom', text = element_text(size = 16))\n",
    "dev.off()"
   ]
  },
  {
   "cell_type": "code",
   "execution_count": 649,
   "id": "3b310790-1fcc-406a-9178-de48d9a5be8b",
   "metadata": {},
   "outputs": [],
   "source": [
    "accelerated.overfit <- which.min(model.accelerated$error>-1)\n",
    "SGD.overfit <- which.min(model.SGD$error>-1)\n",
    "SVRG.overfit <- which.min(model.SVRG$error[2:100]>-1)"
   ]
  },
  {
   "cell_type": "markdown",
   "id": "28a7f9c9-eb85-4164-a2ff-746d0a8e6a1a",
   "metadata": {},
   "source": [
    "## Benchmarks\n"
   ]
  },
  {
   "cell_type": "code",
   "execution_count": 672,
   "id": "f8a36ceb-74d9-45e6-a4dc-79fcae2d3b41",
   "metadata": {},
   "outputs": [],
   "source": [
    "benchmark <- function(data, n.reps=1000){\n",
    "    batch_size <- 40\n",
    "    model.accelerated <- fit.accelerataed(data, 1)\n",
    "    model.SGD <- fit.SGD(data, 10, batch_size=batch_size)\n",
    "    model.SVRG <- fit.SVRG(data, 1, batch_size=batch_size, update_freq =3)\n",
    "    accelerated.overfit <- which.min(model.accelerated$error>-1)\n",
    "    SGD.overfit <- which.min(model.SGD$error>-1)\n",
    "    SVRG.overfit <- which.min(model.SVRG$error[2:100]>-1)\n",
    "    m <- dim(data$X)[2]\n",
    "    beta <- numeric(m)\n",
    "    beta.cache <- list(current=beta, prev=beta)\n",
    "    bench <- summary(microbenchmark(\n",
    "        gd_step.accelerated(data$X, data$y, beta.cache$current, beta.cache$prev, 0.1, 1),\n",
    "        gd_step.SGD(data$X, data$y, beta, 0.1, batch_size),\n",
    "        gd_step.SVRG(data$X, data$y, beta.cache$current, beta.cache$prev, 0.1, batch_size, 10),\n",
    "        unit='ms',\n",
    "        times=n.reps))\n",
    "    return(tibble(alg=c(\"Accelerated\", \"SGD\", \"SVRG\"), iter=bench$mean ,\n",
    "        overfit=c(accelerated.overfit , SGD.overfit, SVRG.overfit),\n",
    "        total=c(accelerated.overfit *bench$mean[1],\n",
    "        SGD.overfit * bench$mean [2], SVRG.overfit *bench$mean[3])))\n",
    "}\n"
   ]
  },
  {
   "cell_type": "code",
   "execution_count": 673,
   "id": "bec03aba-722e-42b6-adf4-3416a35075da",
   "metadata": {},
   "outputs": [
    {
     "data": {
      "text/html": [
       "<table class=\"dataframe\">\n",
       "<caption>A tibble: 3 × 4</caption>\n",
       "<thead>\n",
       "\t<tr><th scope=col>alg</th><th scope=col>iter</th><th scope=col>overfit</th><th scope=col>total</th></tr>\n",
       "\t<tr><th scope=col>&lt;chr&gt;</th><th scope=col>&lt;dbl&gt;</th><th scope=col>&lt;int&gt;</th><th scope=col>&lt;dbl&gt;</th></tr>\n",
       "</thead>\n",
       "<tbody>\n",
       "\t<tr><td>Accelerated</td><td>0.3094520</td><td> 8</td><td>2.475616</td></tr>\n",
       "\t<tr><td>SGD        </td><td>0.0481534</td><td>22</td><td>1.059375</td></tr>\n",
       "\t<tr><td>SVRG       </td><td>1.1621688</td><td> 3</td><td>3.486506</td></tr>\n",
       "</tbody>\n",
       "</table>\n"
      ],
      "text/latex": [
       "A tibble: 3 × 4\n",
       "\\begin{tabular}{llll}\n",
       " alg & iter & overfit & total\\\\\n",
       " <chr> & <dbl> & <int> & <dbl>\\\\\n",
       "\\hline\n",
       "\t Accelerated & 0.3094520 &  8 & 2.475616\\\\\n",
       "\t SGD         & 0.0481534 & 22 & 1.059375\\\\\n",
       "\t SVRG        & 1.1621688 &  3 & 3.486506\\\\\n",
       "\\end{tabular}\n"
      ],
      "text/markdown": [
       "\n",
       "A tibble: 3 × 4\n",
       "\n",
       "| alg &lt;chr&gt; | iter &lt;dbl&gt; | overfit &lt;int&gt; | total &lt;dbl&gt; |\n",
       "|---|---|---|---|\n",
       "| Accelerated | 0.3094520 |  8 | 2.475616 |\n",
       "| SGD         | 0.0481534 | 22 | 1.059375 |\n",
       "| SVRG        | 1.1621688 |  3 | 3.486506 |\n",
       "\n"
      ],
      "text/plain": [
       "  alg         iter      overfit total   \n",
       "1 Accelerated 0.3094520  8      2.475616\n",
       "2 SGD         0.0481534 22      1.059375\n",
       "3 SVRG        1.1621688  3      3.486506"
      ]
     },
     "metadata": {},
     "output_type": "display_data"
    }
   ],
   "source": [
    "# n = 500\n",
    "bench.500 <- benchmark(generate_data(500, 20))\n",
    "bench.500"
   ]
  },
  {
   "cell_type": "code",
   "execution_count": 674,
   "id": "06ef2eed-b283-4c4c-8b81-63b3cf3103e3",
   "metadata": {},
   "outputs": [
    {
     "data": {
      "text/html": [
       "<table class=\"dataframe\">\n",
       "<caption>A tibble: 3 × 4</caption>\n",
       "<thead>\n",
       "\t<tr><th scope=col>alg</th><th scope=col>iter</th><th scope=col>overfit</th><th scope=col>total</th></tr>\n",
       "\t<tr><th scope=col>&lt;chr&gt;</th><th scope=col>&lt;dbl&gt;</th><th scope=col>&lt;int&gt;</th><th scope=col>&lt;dbl&gt;</th></tr>\n",
       "</thead>\n",
       "<tbody>\n",
       "\t<tr><td>Accelerated</td><td>0.6139583</td><td> 7</td><td>4.297708</td></tr>\n",
       "\t<tr><td>SGD        </td><td>0.0510539</td><td>41</td><td>2.093210</td></tr>\n",
       "\t<tr><td>SVRG       </td><td>1.4612281</td><td> 3</td><td>4.383684</td></tr>\n",
       "</tbody>\n",
       "</table>\n"
      ],
      "text/latex": [
       "A tibble: 3 × 4\n",
       "\\begin{tabular}{llll}\n",
       " alg & iter & overfit & total\\\\\n",
       " <chr> & <dbl> & <int> & <dbl>\\\\\n",
       "\\hline\n",
       "\t Accelerated & 0.6139583 &  7 & 4.297708\\\\\n",
       "\t SGD         & 0.0510539 & 41 & 2.093210\\\\\n",
       "\t SVRG        & 1.4612281 &  3 & 4.383684\\\\\n",
       "\\end{tabular}\n"
      ],
      "text/markdown": [
       "\n",
       "A tibble: 3 × 4\n",
       "\n",
       "| alg &lt;chr&gt; | iter &lt;dbl&gt; | overfit &lt;int&gt; | total &lt;dbl&gt; |\n",
       "|---|---|---|---|\n",
       "| Accelerated | 0.6139583 |  7 | 4.297708 |\n",
       "| SGD         | 0.0510539 | 41 | 2.093210 |\n",
       "| SVRG        | 1.4612281 |  3 | 4.383684 |\n",
       "\n"
      ],
      "text/plain": [
       "  alg         iter      overfit total   \n",
       "1 Accelerated 0.6139583  7      4.297708\n",
       "2 SGD         0.0510539 41      2.093210\n",
       "3 SVRG        1.4612281  3      4.383684"
      ]
     },
     "metadata": {},
     "output_type": "display_data"
    }
   ],
   "source": [
    "# n = 1000\n",
    "bench.1000 <- benchmark(generate_data(1000, 20))\n",
    "bench.1000"
   ]
  },
  {
   "cell_type": "code",
   "execution_count": 675,
   "id": "78940be4-11d1-40c2-a7dc-ba0e6d0a389b",
   "metadata": {},
   "outputs": [
    {
     "data": {
      "text/html": [
       "<table class=\"dataframe\">\n",
       "<caption>A tibble: 3 × 4</caption>\n",
       "<thead>\n",
       "\t<tr><th scope=col>alg</th><th scope=col>iter</th><th scope=col>overfit</th><th scope=col>total</th></tr>\n",
       "\t<tr><th scope=col>&lt;chr&gt;</th><th scope=col>&lt;dbl&gt;</th><th scope=col>&lt;int&gt;</th><th scope=col>&lt;dbl&gt;</th></tr>\n",
       "</thead>\n",
       "<tbody>\n",
       "\t<tr><td>Accelerated</td><td>0.9047570</td><td> 8</td><td>7.238056</td></tr>\n",
       "\t<tr><td>SGD        </td><td>0.0540778</td><td>70</td><td>3.785446</td></tr>\n",
       "\t<tr><td>SVRG       </td><td>1.8014196</td><td> 3</td><td>5.404259</td></tr>\n",
       "</tbody>\n",
       "</table>\n"
      ],
      "text/latex": [
       "A tibble: 3 × 4\n",
       "\\begin{tabular}{llll}\n",
       " alg & iter & overfit & total\\\\\n",
       " <chr> & <dbl> & <int> & <dbl>\\\\\n",
       "\\hline\n",
       "\t Accelerated & 0.9047570 &  8 & 7.238056\\\\\n",
       "\t SGD         & 0.0540778 & 70 & 3.785446\\\\\n",
       "\t SVRG        & 1.8014196 &  3 & 5.404259\\\\\n",
       "\\end{tabular}\n"
      ],
      "text/markdown": [
       "\n",
       "A tibble: 3 × 4\n",
       "\n",
       "| alg &lt;chr&gt; | iter &lt;dbl&gt; | overfit &lt;int&gt; | total &lt;dbl&gt; |\n",
       "|---|---|---|---|\n",
       "| Accelerated | 0.9047570 |  8 | 7.238056 |\n",
       "| SGD         | 0.0540778 | 70 | 3.785446 |\n",
       "| SVRG        | 1.8014196 |  3 | 5.404259 |\n",
       "\n"
      ],
      "text/plain": [
       "  alg         iter      overfit total   \n",
       "1 Accelerated 0.9047570  8      7.238056\n",
       "2 SGD         0.0540778 70      3.785446\n",
       "3 SVRG        1.8014196  3      5.404259"
      ]
     },
     "metadata": {},
     "output_type": "display_data"
    }
   ],
   "source": [
    "# n = 1500\n",
    "bench.1500 <- benchmark(generate_data(1500, 20))\n",
    "bench.1500"
   ]
  },
  {
   "cell_type": "markdown",
   "id": "1db6ac03-99b2-4d49-b4f1-859e84de7254",
   "metadata": {},
   "source": [
    "The things to take note here are:\n",
    "- The per iteration cost of SGD with a mini-batch size of 40 does not scale with $n$ (obviously) and is at least an order of magnitude less than both other methods.\n",
    "- For small $n$ accelerated GD and SVRG are fairly similar but SVRG has better performance for larger $n$ both converging faster and doing so in less time."
   ]
  },
  {
   "cell_type": "code",
   "execution_count": null,
   "id": "4dd0c103-8169-44d4-9e1c-d4368f52d302",
   "metadata": {},
   "outputs": [],
   "source": []
  }
 ],
 "metadata": {
  "kernelspec": {
   "display_name": "R",
   "language": "R",
   "name": "ir"
  },
  "language_info": {
   "codemirror_mode": "r",
   "file_extension": ".r",
   "mimetype": "text/x-r-source",
   "name": "R",
   "pygments_lexer": "r",
   "version": "4.1.2"
  }
 },
 "nbformat": 4,
 "nbformat_minor": 5
}

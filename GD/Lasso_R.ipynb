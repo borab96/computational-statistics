{
 "cells": [
  {
   "cell_type": "code",
   "execution_count": 1,
   "metadata": {},
   "outputs": [
    {
     "name": "stderr",
     "output_type": "stream",
     "text": [
      "Warning message:\n",
      "\"package 'microbenchmark' was built under R version 4.1.3\"\n",
      "Warning message:\n",
      "\"package 'matlib' was built under R version 4.1.3\"\n"
     ]
    }
   ],
   "source": [
    "library(ggplot2)\n",
    "library(tibble)\n",
    "library(microbenchmark)\n",
    "library(matlib)"
   ]
  },
  {
   "cell_type": "code",
   "execution_count": 11,
   "metadata": {},
   "outputs": [
    {
     "data": {
      "text/html": [
       "TRUE"
      ],
      "text/latex": [
       "TRUE"
      ],
      "text/markdown": [
       "TRUE"
      ],
      "text/plain": [
       "[1] TRUE"
      ]
     },
     "metadata": {},
     "output_type": "display_data"
    }
   ],
   "source": [
    "is.character(\"10\")"
   ]
  },
  {
   "cell_type": "markdown",
   "metadata": {},
   "source": [
    "# LASSO optimization\n",
    "\n",
    "We solve the familiar LASSO problem,\n",
    "$$\n",
    "\\min_\\beta \\|X\\beta-Y\\|_2^2+\\lambda\\|\\beta\\|_1\n",
    "$$\n",
    "with a number of different algorithms:\n",
    "\n",
    "- Proximal gradient descent\n",
    "- Accelerated gradient descent\n",
    "- Subgradient descent\n",
    "- ADMM\n",
    "- Coordinate descent\n"
   ]
  },
  {
   "cell_type": "markdown",
   "metadata": {},
   "source": [
    "### Data generator"
   ]
  },
  {
   "cell_type": "code",
   "execution_count": 2,
   "metadata": {},
   "outputs": [
    {
     "name": "stdout",
     "output_type": "stream",
     "text": [
      "[1] \"True beta\"\n"
     ]
    },
    {
     "data": {
      "text/html": [
       "<style>\n",
       ".list-inline {list-style: none; margin:0; padding: 0}\n",
       ".list-inline>li {display: inline-block}\n",
       ".list-inline>li:not(:last-child)::after {content: \"\\00b7\"; padding: 0 .5ex}\n",
       "</style>\n",
       "<ol class=list-inline><li>1</li><li>1</li><li>1</li><li>1</li><li>0</li><li>0</li><li>0</li><li>0</li><li>0</li><li>0</li><li>0</li><li>0</li><li>0</li><li>0</li><li>0</li><li>0</li><li>0</li><li>0</li><li>0</li><li>0</li><li>0</li><li>0</li><li>0</li><li>0</li><li>0</li><li>0</li><li>0</li><li>0</li><li>0</li><li>0</li><li>0</li><li>0</li><li>0</li><li>0</li><li>0</li><li>0</li><li>0</li><li>0</li><li>0</li><li>0</li></ol>\n"
      ],
      "text/latex": [
       "\\begin{enumerate*}\n",
       "\\item 1\n",
       "\\item 1\n",
       "\\item 1\n",
       "\\item 1\n",
       "\\item 0\n",
       "\\item 0\n",
       "\\item 0\n",
       "\\item 0\n",
       "\\item 0\n",
       "\\item 0\n",
       "\\item 0\n",
       "\\item 0\n",
       "\\item 0\n",
       "\\item 0\n",
       "\\item 0\n",
       "\\item 0\n",
       "\\item 0\n",
       "\\item 0\n",
       "\\item 0\n",
       "\\item 0\n",
       "\\item 0\n",
       "\\item 0\n",
       "\\item 0\n",
       "\\item 0\n",
       "\\item 0\n",
       "\\item 0\n",
       "\\item 0\n",
       "\\item 0\n",
       "\\item 0\n",
       "\\item 0\n",
       "\\item 0\n",
       "\\item 0\n",
       "\\item 0\n",
       "\\item 0\n",
       "\\item 0\n",
       "\\item 0\n",
       "\\item 0\n",
       "\\item 0\n",
       "\\item 0\n",
       "\\item 0\n",
       "\\end{enumerate*}\n"
      ],
      "text/markdown": [
       "1. 1\n",
       "2. 1\n",
       "3. 1\n",
       "4. 1\n",
       "5. 0\n",
       "6. 0\n",
       "7. 0\n",
       "8. 0\n",
       "9. 0\n",
       "10. 0\n",
       "11. 0\n",
       "12. 0\n",
       "13. 0\n",
       "14. 0\n",
       "15. 0\n",
       "16. 0\n",
       "17. 0\n",
       "18. 0\n",
       "19. 0\n",
       "20. 0\n",
       "21. 0\n",
       "22. 0\n",
       "23. 0\n",
       "24. 0\n",
       "25. 0\n",
       "26. 0\n",
       "27. 0\n",
       "28. 0\n",
       "29. 0\n",
       "30. 0\n",
       "31. 0\n",
       "32. 0\n",
       "33. 0\n",
       "34. 0\n",
       "35. 0\n",
       "36. 0\n",
       "37. 0\n",
       "38. 0\n",
       "39. 0\n",
       "40. 0\n",
       "\n",
       "\n"
      ],
      "text/plain": [
       " [1] 1 1 1 1 0 0 0 0 0 0 0 0 0 0 0 0 0 0 0 0 0 0 0 0 0 0 0 0 0 0 0 0 0 0 0 0 0 0\n",
       "[39] 0 0"
      ]
     },
     "metadata": {},
     "output_type": "display_data"
    }
   ],
   "source": [
    "generate_data <- function(n=200, d=100, s=2, seed =42) \n",
    "{\n",
    "    set.seed(seed)\n",
    "    beta <- numeric(length = d)\n",
    "    beta [1:s] <- 1\n",
    "    X <- matrix(rnorm(n*d), nrow=n, ncol=d)\n",
    "    y <- c(X %*% beta) + rnorm(n)\n",
    "    list(X=X, y=y, beta=beta)\n",
    "}\n",
    "data <- generate_data(n=500, d=40, s=4, seed =58)\n",
    "print(\"True beta\")\n",
    "data$beta"
   ]
  },
  {
   "cell_type": "markdown",
   "metadata": {},
   "source": [
    "### Helpers"
   ]
  },
  {
   "cell_type": "code",
   "execution_count": 6,
   "metadata": {},
   "outputs": [],
   "source": [
    "linspace <- function(x1, x2, n=100) {\n",
    "    stopifnot(is.numeric(x1), is.numeric(x2), length(x1)==1, length(x2)==1)\n",
    "    n <- floor(n)\n",
    "    if (n <= 1) x2\n",
    "    else seq(x1, x2, length.out=n)\n",
    "}\n",
    "hess.loss.max <- function(X)\n",
    "{\n",
    "    hess.loss = 2 * (t(X) %*% X)\n",
    "    hess.ev = eigen(hess.loss)$values\n",
    "    return(max(hess.ev))\n",
    "}\n",
    "l1.norm <- function(a) {sum(abs(a))}\n",
    "l2.norm <- function(a) {sqrt(sum(a*a))}\n",
    "loss.lasso <- function(X, y, beta, lam){0.5*l2.norm(X%*%beta-y)**2+lam*l1.norm(beta)}\n",
    "backtrack <- function(f, grad, x, eta, k) \n",
    "{\n",
    "    i <- 1\n",
    "    alpha <- c(1)\n",
    "    search_vec <- -grad\n",
    "    t <- -k * t(search_vec)%*%grad\n",
    "    while (f(x)-f(x+alpha[i]*search_vec)<alpha[i]*t)\n",
    "    {\n",
    "        alpha <- c(alpha, eta*alpha[i])\n",
    "        i <- i+1\n",
    "    }\n",
    "    return(tail(alpha, 1))\n",
    "}"
   ]
  },
  {
   "cell_type": "markdown",
   "metadata": {},
   "source": [
    "### GD steps"
   ]
  },
  {
   "cell_type": "code",
   "execution_count": 4,
   "metadata": {},
   "outputs": [],
   "source": [
    "gd_step.sub_grad <- function(X, y, beta_, t, lam) {beta_-t* (t(X)%*%(X%*%beta_-y)+lam*sign(beta_))}"
   ]
  },
  {
   "cell_type": "code",
   "execution_count": 5,
   "metadata": {},
   "outputs": [],
   "source": [
    "prox.l1 <- function(x, lam){sign(x)*pmax(abs(x)-lam, 0)}\n",
    "gd_step.prox <- function(X, y, beta_, t, lam) {prox.l1(beta_-t*t(X)%*%(X%*%beta_-y), lam*t)}"
   ]
  },
  {
   "cell_type": "code",
   "execution_count": 6,
   "metadata": {},
   "outputs": [],
   "source": [
    "gd_step.acc_prox <- function(X, y, beta_, beta_prev, t, lam, k)\n",
    "{\n",
    "    v <- beta_+(k/(k+3))*(beta_-beta_prev)\n",
    "    return(prox.l1(v-t*t(X)%*%(X%*%v-y), lam*t))\n",
    "}"
   ]
  },
  {
   "cell_type": "markdown",
   "metadata": {},
   "source": [
    "### Fitters"
   ]
  },
  {
   "cell_type": "code",
   "execution_count": 7,
   "metadata": {},
   "outputs": [],
   "source": [
    "fit.lasso <- function(alg, X, y, \n",
    "                      beta_true=NULL, lam=3, max_iter=50, early_stop=0, eta=0.1, k=0.3, back_track=FALSE, t=1)\n",
    "{\n",
    "    d <- dim(X)[2]\n",
    "    beta = numeric(length=d)\n",
    "    betas = list(beta, beta)\n",
    "    loss <- NULL\n",
    "    error <- NULL\n",
    "    iter <- 0\n",
    "    t<-t/hess.loss.max(X)\n",
    "    while(iter<max_iter)\n",
    "    {\n",
    "        iter <- iter+1\n",
    "        y_hat <- X%*%beta\n",
    "        if(back_track)\n",
    "            {t<-backtrack(function(b){loss.lasso(X, y, b, lam)}, t(X)%*%(X%*%beta-y)+lam*sign(beta), beta, eta, k)}\n",
    "        if(alg=='prox'){beta <- gd_step.prox(X, y, beta, t, lam)}\n",
    "        else if(alg=='sub_grad'){beta <- gd_step.sub_grad(X, y, beta, t, lam)}\n",
    "        else if(alg=='acc_prox')\n",
    "        {\n",
    "            betas <- append(betas, list(gd_step.acc_prox(X, y, rev(betas)[[1]], rev(betas)[[2]], t, lam, iter)))\n",
    "            if(length(betas)>2){betas<-betas[-1]}\n",
    "            beta <- rev(betas)[[1]]\n",
    "        }\n",
    "        else {stop('invalid algorithm')}\n",
    "        loss <- c(loss, loss.lasso(X, y, beta, lam))\n",
    "        if(!is.null(beta_true))\n",
    "        {\n",
    "            log_loss <- log(tail(loss, 1))-log(loss.lasso(X, y, beta_true, lam))\n",
    "            error <- c(error, log_loss)\n",
    "        }\n",
    "        if(iter==early_stop){break}\n",
    "    }\n",
    "    return(list(y_pred=X%*%beta, beta=beta, loss=loss/length(y),  error=error))\n",
    "}"
   ]
  },
  {
   "cell_type": "code",
   "execution_count": null,
   "metadata": {},
   "outputs": [],
   "source": [
    "data <- generate_data(n=400, d=40, s=300, seed =58)\n",
    "model.prox <- fit.lasso('prox', data$X, data$y, data$beta)\n",
    "model.sub_grad <- fit.lasso('sub_grad', data$X, data$y, data$beta)\n",
    "model.acc_prox <- fit.lasso('acc_prox', data$X, data$y, data$beta)"
   ]
  },
  {
   "cell_type": "code",
   "execution_count": 9,
   "metadata": {},
   "outputs": [],
   "source": [
    "prox.overfit <- which.max(model.prox$error<0)\n",
    "sub_grad.overfit <- which.max(model.sub_grad$error<0)\n",
    "acc_prox.overfit <- which.max(model.acc_prox$error<0)"
   ]
  },
  {
   "cell_type": "code",
   "execution_count": 10,
   "metadata": {},
   "outputs": [],
   "source": [
    "df <- tibble(n.iter = 1:length(model.prox$error) ,\n",
    "prox.error = model.prox$error ,\n",
    "sub_grad.error = model.sub_grad$error,\n",
    "acc_prox.error = model.acc_prox$error)"
   ]
  },
  {
   "cell_type": "code",
   "execution_count": 11,
   "metadata": {},
   "outputs": [
    {
     "data": {
      "text/html": [
       "<strong>null device:</strong> 1"
      ],
      "text/latex": [
       "\\textbf{null device:} 1"
      ],
      "text/markdown": [
       "**null device:** 1"
      ],
      "text/plain": [
       "null device \n",
       "          1 "
      ]
     },
     "metadata": {},
     "output_type": "display_data"
    },
    {
     "data": {
      "image/png": "[encoded data removed]",
      "text/plain": [
       "plot without title"
      ]
     },
     "metadata": {
      "image/png": {
       "height": 420,
       "width": 420
      }
     },
     "output_type": "display_data"
    }
   ],
   "source": [
    "# pdf('30conv4.pdf', width=10, height =6)\n",
    "ggplot(data=df, aes(x=n.iter)) +\n",
    "geom_line(aes(y=prox.error , color='proximal'), lwd=1.5) +\n",
    "geom_line(aes(y=sub_grad.error , color='subgradient'), lwd=1.5) +\n",
    "geom_line(aes(y=acc_prox.error, color='accelerated proximal'), lwd=1.5) +\n",
    "ylab('Log error') +\n",
    "xlab('epoch ') +\n",
    "theme_bw() +\n",
    "theme(legend.position='bottom', text = element_text(size = 16))\n",
    "dev.off()"
   ]
  },
  {
   "cell_type": "code",
   "execution_count": 12,
   "metadata": {},
   "outputs": [
    {
     "data": {
      "text/html": [
       "0.000325426713537534"
      ],
      "text/latex": [
       "0.000325426713537534"
      ],
      "text/markdown": [
       "0.000325426713537534"
      ],
      "text/plain": [
       "[1] 0.0003254267"
      ]
     },
     "metadata": {},
     "output_type": "display_data"
    }
   ],
   "source": [
    "L <- hess.loss.max(data$X)\n",
    "1/L"
   ]
  },
  {
   "cell_type": "code",
   "execution_count": 13,
   "metadata": {},
   "outputs": [],
   "source": [
    "n.reps <- 1000\n",
    "bench <- summary(microbenchmark(\n",
    "    gd_step.prox(data$X, data$y, numeric(length=dim(data$X)[2]), 0.01, 1),\n",
    "    gd_step.sub_grad(data$X, data$y, numeric(length=dim(data$X)[2]), 0.01, 1),\n",
    "    gd_step.acc_prox(data$X, data$y, numeric(length=dim(data$X)[2]), numeric(length=dim(data$X)[2])+1/dim(data$X)[2],0.01, 0.1, 2),\n",
    "    unit='ms',\n",
    "    times=n.reps))"
   ]
  },
  {
   "cell_type": "code",
   "execution_count": 14,
   "metadata": {},
   "outputs": [
    {
     "name": "stdout",
     "output_type": "stream",
     "text": [
      "\u001b[90m# A tibble: 3 x 3\u001b[39m\n",
      "   iter overfit total\n",
      "  \u001b[3m\u001b[90m<dbl>\u001b[39m\u001b[23m   \u001b[3m\u001b[90m<int>\u001b[39m\u001b[23m \u001b[3m\u001b[90m<dbl>\u001b[39m\u001b[23m\n",
      "\u001b[90m1\u001b[39m 0.870      48  41.8\n",
      "\u001b[90m2\u001b[39m 0.897      48  43.0\n",
      "\u001b[90m3\u001b[39m 0.880      15  13.2\n"
     ]
    }
   ],
   "source": [
    "print(tibble(iter=bench$mean ,\n",
    "overfit=c(prox.overfit , sub_grad.overfit, acc_prox.overfit),\n",
    "total=c(prox.overfit *bench$mean[1],\n",
    "sub_grad.overfit * bench$mean [2], acc_prox.overfit *bench$mean[3])))"
   ]
  },
  {
   "cell_type": "markdown",
   "metadata": {},
   "source": [
    "# ADMM and coordinate descent\n",
    "\n",
    "## ADMM\n",
    "We first write the problem as\n",
    "$$\n",
    "\\min_{\\beta,\\gamma}\\frac{1}{2}\\|Y-X\\beta\\|^2_2+\\lambda\\|\\gamma\\|_1,\\quad \\beta=\\gamma\n",
    "$$\n",
    "The augmented Lagrangian is\n",
    "$$\n",
    "L_\\rho = \\frac{1}{2}\\|Y-X\\beta\\|^2_2+\\lambda\\|\\gamma\\|_1+\\eta^T(\\beta-\\gamma)+\\frac{\\rho}{2}\\|\\beta-\\gamma\\|_2^2\n",
    "$$\n",
    "The specific ADMM updates are then\n",
    "$$\n",
    "\\begin{aligned}\n",
    "\\beta &\\leftarrow (X^TX+\\rho I)^{-1}(X^Ty+\\rho(\\gamma-\\eta))\\\\\n",
    "\\gamma&\\leftarrow S_{\\lambda/\\rho}(\\beta+\\eta)\\\\\n",
    "\\eta&\\leftarrow \\eta+\\beta-\\gamma\n",
    "\\end{aligned}\n",
    "$$\n",
    "## Coordinate descent\n",
    "\n",
    "For each component of the weight vector, do\n",
    "$$\n",
    "\\beta_i \\leftarrow S_{\\lambda/\\|X_i\\|^2}\\left(\\frac{X_i^T(Y-X_{-i}\\beta_{-i})}{X_i^TX_i}\\right)\n",
    "$$\n",
    "where $X_{-i}$ excludes the $i-$th feature, which achieves\n",
    "$$\n",
    "\\arg\\min_{\\beta_i} f(\\beta_i,\\beta_{-i})\n",
    "$$"
   ]
  },
  {
   "cell_type": "code",
   "execution_count": 157,
   "metadata": {},
   "outputs": [],
   "source": [
    "prox.l1 <- function(x, lam){sign(x)*pmax(abs(x)-lam, 0)}\n",
    "\n",
    "admm_step <- function(X, y, beta_, gamma_, eta_, rho, lam)\n",
    "{\n",
    "    d <- dim(X)[2]\n",
    "    beta_ <- inv(t(X)%*%X+rho*diag(d))%*%(t(X)%*%y+rho*(gamma_-eta_))\n",
    "    gamma_ <- prox.l1(beta_+eta_, lam/rho)\n",
    "    eta_ <- eta_+beta_-gamma_\n",
    "    return(list(beta=beta_,gamma=gamma_, eta=eta_))\n",
    "}\n",
    "\n",
    "coordinate_step <- function(X, y, beta_, lam)\n",
    "{\n",
    "    for (i in 1:length(beta_))\n",
    "    {\n",
    "        coord <- X[, i]\n",
    "        not.coord <- X[, -i]\n",
    "        beta_[i] <- prox.l1(t(coord)%*%(y-not.coord%*%beta_[-i])/(t(coord)%*%coord), lam/l2.norm(coord)**2)\n",
    "    }\n",
    "    return(beta_)\n",
    "}"
   ]
  },
  {
   "cell_type": "code",
   "execution_count": 158,
   "metadata": {},
   "outputs": [],
   "source": [
    "fit.lasso.admm <- function(alg, X, y, beta_true, rho, lam, max_iter=50)\n",
    "{\n",
    "    d <- dim(X)[2]\n",
    "    params <- list(beta=numeric(length=d), gamma=numeric(length=d), eta=numeric(length=d))\n",
    "    beta <- params$beta\n",
    "    loss <- NULL\n",
    "    error <- NULL\n",
    "    iter <- 0\n",
    "    while(iter<max_iter)\n",
    "    {\n",
    "        iter <- iter+1\n",
    "        if(alg==\"ADMM\")\n",
    "            {\n",
    "            params <- admm_step(X, y, params$beta, params$gamma,params$eta, rho, lam)\n",
    "            beta <- params$beta\n",
    "            }\n",
    "        else if(alg==\"coordinate\")\n",
    "            {beta <- coordinate_step(X, y, beta, lam)}\n",
    "        loss <- c(loss, loss.lasso(X, y, beta, lam))\n",
    "        error <- c(error, l2.norm(beta_true-beta))\n",
    "        \n",
    "    }\n",
    "    return(list(y_pred=X%*%beta, beta=beta, loss=loss/length(y), error=error))\n",
    "}"
   ]
  },
  {
   "cell_type": "code",
   "execution_count": 163,
   "metadata": {},
   "outputs": [],
   "source": [
    "model.admm <- fit.lasso.admm(\"ADMM\", data$X, data$y,data$beta, 3, 1, max_iter=40)\n",
    "model.coordinate <- fit.lasso.admm(\"coordinate\", data$X, data$y,data$beta, .1, 1, max_iter=40)"
   ]
  },
  {
   "cell_type": "code",
   "execution_count": 164,
   "metadata": {},
   "outputs": [],
   "source": [
    "df <- tibble(n.iter = 1:length(model.admm$error) ,\n",
    "admm.error = model.admm$error,\n",
    "coordinate.error = model.coordinate$error)\n",
    "# acc_prox.error = model.acc_prox$error)\n"
   ]
  },
  {
   "cell_type": "code",
   "execution_count": 167,
   "metadata": {},
   "outputs": [
    {
     "data": {
      "text/html": [
       "<strong>null device:</strong> 1"
      ],
      "text/latex": [
       "\\textbf{null device:} 1"
      ],
      "text/markdown": [
       "**null device:** 1"
      ],
      "text/plain": [
       "null device \n",
       "          1 "
      ]
     },
     "metadata": {},
     "output_type": "display_data"
    },
    {
     "data": {
      "image/png": "[encoded data removed]",
      "text/plain": [
       "plot without title"
      ]
     },
     "metadata": {
      "image/png": {
       "height": 420,
       "width": 420
      }
     },
     "output_type": "display_data"
    }
   ],
   "source": [
    "# pdf('corrd_vs_admm.pdf', width=10, height =6)\n",
    "ggplot(data=df, aes(x=n.iter)) +\n",
    "geom_line(aes(y=log(admm.error) , color='ADMM'), lwd=1.5) +\n",
    "geom_line(aes(y=log(coordinate.error) , color='Coordinate descent'), lwd=1.5) +\n",
    "ylab('Log Error') +\n",
    "xlab('epoch ') +\n",
    "theme_bw() +\n",
    "theme(legend.position='bottom', text = element_text(size = 16))\n",
    "dev.off()"
   ]
  },
  {
   "cell_type": "code",
   "execution_count": null,
   "metadata": {},
   "outputs": [],
   "source": []
  }
 ],
 "metadata": {
  "colab": {
   "collapsed_sections": [],
   "name": "GroupLasso.ipynb",
   "provenance": []
  },
  "kernelspec": {
   "display_name": "R",
   "language": "R",
   "name": "ir"
  },
  "language_info": {
   "codemirror_mode": "r",
   "file_extension": ".r",
   "mimetype": "text/x-r-source",
   "name": "R",
   "pygments_lexer": "r",
   "version": "4.1.2"
  }
 },
 "nbformat": 4,
 "nbformat_minor": 4
}

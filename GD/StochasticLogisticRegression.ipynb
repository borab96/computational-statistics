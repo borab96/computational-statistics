{
 "cells": [
  {
   "cell_type": "code",
   "execution_count": 2,
   "id": "c0dfcce3-a77e-48a8-9a8e-b4a44179a05b",
   "metadata": {},
   "outputs": [],
   "source": [
    "# library(reshape2)\n",
    "library(ggplot2)\n",
    "library(tibble)"
   ]
  },
  {
   "cell_type": "code",
   "execution_count": 551,
   "id": "4332b66d-429c-4eb3-b58c-819fbb684f16",
   "metadata": {},
   "outputs": [],
   "source": [
    "stable.sigmoid <- function(x) \n",
    "{\n",
    "    if (x >= 0) \n",
    "        {1 / (1 + exp(-x))}\n",
    "    else \n",
    "        {exp(x) / (1 + exp(x))}\n",
    "}\n",
    "sigmoid <- function(x) {sapply(x, stable.sigmoid)}\n",
    "\n",
    "logreg.nll <- function(X, y, beta) \n",
    "{\n",
    "    y.hat <- X%*%beta\n",
    "    -sum(y * y.hat + log(sigmoid(-y.hat )))\n",
    "}\n",
    "\n",
    "grad.beta <- function(X, y, beta) {-as.numeric(c(y - sigmoid(X %*% beta)) %*% X)}\n",
    "\n",
    "l2.norm <- function(a) {sqrt(sum(a*a))}\n",
    "\n",
    "hess.loss.max <- function(X)\n",
    "{\n",
    "    hess.loss = 2 * (t(X) %*% X)\n",
    "    hess.ev = eigen(hess.loss)$values\n",
    "    return(max(hess.ev))\n",
    "}"
   ]
  },
  {
   "cell_type": "code",
   "execution_count": 552,
   "id": "411706c6-ce66-4343-95fc-e7e689f6c867",
   "metadata": {},
   "outputs": [],
   "source": [
    "generate_data <- function(n, d, seed = 42) \n",
    "{\n",
    "    set.seed(seed)\n",
    "    X <- matrix(rnorm(n*d), nrow = n, ncol = d)\n",
    "    beta <- rep(1 / sqrt(d), d)\n",
    "    y <- rbinom(n, size = 1, sigmoid(X %*% beta))\n",
    "    list(X=X, y=y, beta=beta)\n",
    "}\n",
    "data <- generate_data(2000, 20)"
   ]
  },
  {
   "cell_type": "code",
   "execution_count": 553,
   "id": "252bb4d8-f6a9-47a5-bb33-b15083c5bfb2",
   "metadata": {},
   "outputs": [],
   "source": [
    "gd_step.accelerated <- function(X, y, beta_, beta_prev, t, k)\n",
    "{\n",
    "    v <- beta_+(k/(k+3))*(beta_-beta_prev)\n",
    "    return(v-t*grad.beta(X, y, v))\n",
    "}   \n",
    "\n",
    "gd_step.SGD <- function(X, y, beta_, t, batch_size)\n",
    "{\n",
    "    shuffle.idx <- sample(1:dim(X)[1], batch_size, replace=FALSE)\n",
    "    X <- X[shuffle.idx, ]\n",
    "    y <- y[shuffle.idx]\n",
    "    return(beta_-t*grad.beta(X, y, beta_))\n",
    "}\n",
    "\n",
    "gd_step.SVRG <- function(X, y, beta_, beta_prev, eta, batch_size, update_freq)\n",
    "{\n",
    "    mu <- grad.beta(X, y, beta_prev)\n",
    "    for (j in 1:update_freq)\n",
    "    {\n",
    "        shuffle.idx <- sample(1:dim(X)[1], batch_size, replace=FALSE)\n",
    "        X_ <- X[shuffle.idx, ]\n",
    "        y_ <- y[shuffle.idx]\n",
    "        beta_ <- beta_-eta*(grad.beta(X_, y_, beta_)-grad.beta(X_, y_, beta_prev)+mu)\n",
    "    }\n",
    "    return(beta_)\n",
    "}"
   ]
  },
  {
   "cell_type": "code",
   "execution_count": 562,
   "id": "6c8aa9f1-db87-46db-93a4-7ac8af0ec056",
   "metadata": {},
   "outputs": [],
   "source": [
    "fit.accelerataed <- function(data, t=1, max.iter=150)\n",
    "{\n",
    "    t<-t/hess.loss.max(data$X)\n",
    "    m <- dim(data$X)[2]\n",
    "    beta <- numeric(m)\n",
    "    beta.cache <- list(current=beta, prev=beta)\n",
    "    error <- NULL\n",
    "    loss <- NULL\n",
    "    for (i in 1:max.iter) \n",
    "    {\n",
    "        beta <- gd_step.accelerated(data$X, data$y, beta.cache$current, beta.cache$prev, t, i)\n",
    "        beta.cache$prev <-beta.cache$current\n",
    "        beta.cache$current <- beta\n",
    "        error <- c(error, log(l2.norm(data$beta-beta)))\n",
    "        loss <- c(loss, logreg.nll(data$X, data$y, beta))\n",
    "    }\n",
    "    return(list(beta=beta, loss=loss, error=error))\n",
    "}"
   ]
  },
  {
   "cell_type": "code",
   "execution_count": 563,
   "id": "d0d7b730-cc8d-4d24-bcc4-215894e49261",
   "metadata": {},
   "outputs": [],
   "source": [
    "fit.SGD <- function(data, t=1, max.iter=150, batch_size=50)\n",
    "{\n",
    "    t<-t/hess.loss.max(data$X)\n",
    "    m <- dim(data$X)[2]\n",
    "    n <- dim(data$X)[1]\n",
    "    beta <- numeric(m)\n",
    "    error <- NULL\n",
    "    loss <- NULL\n",
    "    for (i in 1:max.iter) \n",
    "    {   \n",
    "        beta <- gd_step.SGD(data$X, data$y, beta, t, batch_size)\n",
    "        error <- c(error, log(l2.norm(data$beta-beta)))\n",
    "        loss <- c(loss, logreg.nll(data$X, data$y, beta))\n",
    "    }\n",
    "    return(list(beta=beta, loss=loss, error=error))\n",
    "}"
   ]
  },
  {
   "cell_type": "code",
   "execution_count": 564,
   "id": "d8d52226-6ec0-415e-b161-84e0c6391945",
   "metadata": {},
   "outputs": [],
   "source": [
    "fit.SVRG <- function(data, t=1, batch_size=10, update_freq=10, max.iter=150)\n",
    "{\n",
    "    t<-t/hess.loss.max(data$X)\n",
    "    m <- dim(data$X)[2]\n",
    "    beta <- numeric(m)\n",
    "    beta.cache <- list(current=beta, prev=beta)\n",
    "    error <- NULL\n",
    "    loss <- NULL\n",
    "    for (i in 1:max.iter) \n",
    "    {\n",
    "        beta <- gd_step.SVRG(data$X, data$y, beta.cache$current, beta.cache$prev, t, batch_size, update_freq)\n",
    "        beta.cache$prev <-beta.cache$current\n",
    "        beta.cache$current <- beta\n",
    "        error <- c(error, log(l2.norm(data$beta-beta)))\n",
    "        loss <- c(loss, logreg.nll(data$X, data$y, beta))\n",
    "    }\n",
    "    return(list(beta=beta, loss=loss, error=error))\n",
    "}"
   ]
  },
  {
   "cell_type": "code",
   "execution_count": 583,
   "id": "6aac07a5-440a-48c2-b7fe-ae7f0f57ffe1",
   "metadata": {},
   "outputs": [],
   "source": [
    "batch_size <- 40\n",
    "model.accelerated <- fit.accelerataed(data, 1)\n",
    "model.SGD <- fit.SGD(data, 10, batch_size=batch_size)\n",
    "model.SVRG <- fit.SVRG(data, 1, batch_size=batch_size, update_freq =10)"
   ]
  },
  {
   "cell_type": "code",
   "execution_count": 586,
   "id": "8a623d92-3c6c-4238-bb2b-a8ea65cdd17d",
   "metadata": {},
   "outputs": [
    {
     "data": {
      "text/html": [
       "<strong>null device:</strong> 1"
      ],
      "text/latex": [
       "\\textbf{null device:} 1"
      ],
      "text/markdown": [
       "**null device:** 1"
      ],
      "text/plain": [
       "null device \n",
       "          1 "
      ]
     },
     "metadata": {},
     "output_type": "display_data"
    },
    {
     "data": {
      "image/png": "[encoded data removed]",
      "text/plain": [
       "plot without title"
      ]
     },
     "metadata": {
      "image/png": {
       "height": 420,
       "width": 420
      }
     },
     "output_type": "display_data"
    }
   ],
   "source": [
    "losses <- tibble(n.iter=1:length(model.accelerated$loss),\n",
    "                 acceleratedGD = model.accelerated$error, \n",
    "                 SGD=model.SGD$error,\n",
    "                 SVRG=model.SVRG$error)\n",
    "# pdf('stochastic_conv.pdf', width=10, height =6)\n",
    "ggplot(data=losses, aes(x=n.iter)) +\n",
    "geom_line(aes(y=acceleratedGD , color='accelerated'), lwd=1.5) +\n",
    "geom_line(aes(y=SGD , color='SGD'), lwd=1.5) +\n",
    "geom_line(aes(y=SVRG, color='SVRG'), lwd=1.5) +\n",
    "ylab('Log error') +\n",
    "xlab('epoch ') +\n",
    "theme_bw() +\n",
    "theme(legend.position='bottom', text = element_text(size = 16))\n",
    "dev.off()"
   ]
  },
  {
   "cell_type": "code",
   "execution_count": 559,
   "id": "df0989f0-10b9-4549-ae86-896222a8ef43",
   "metadata": {},
   "outputs": [
    {
     "data": {
      "text/html": [
       "<style>\n",
       ".list-inline {list-style: none; margin:0; padding: 0}\n",
       ".list-inline>li {display: inline-block}\n",
       ".list-inline>li:not(:last-child)::after {content: \"\\00b7\"; padding: 0 .5ex}\n",
       "</style>\n",
       "<ol class=list-inline><li>0.182938754391163</li><li>0.13025564056008</li><li>0.299323113301696</li><li>0.235453779128155</li><li>0.235308776988402</li><li>0.20820658035256</li><li>0.215062692827808</li><li>0.216862789805299</li><li>0.204719065715196</li><li>0.201549190782131</li><li>0.209121321259688</li><li>0.295851903933907</li><li>0.30203587877441</li><li>0.276644468255248</li><li>0.222147811795679</li><li>0.218250986846438</li><li>0.18434867739225</li><li>0.220267113369314</li><li>0.176100574295286</li><li>0.247072882950798</li></ol>\n"
      ],
      "text/latex": [
       "\\begin{enumerate*}\n",
       "\\item 0.182938754391163\n",
       "\\item 0.13025564056008\n",
       "\\item 0.299323113301696\n",
       "\\item 0.235453779128155\n",
       "\\item 0.235308776988402\n",
       "\\item 0.20820658035256\n",
       "\\item 0.215062692827808\n",
       "\\item 0.216862789805299\n",
       "\\item 0.204719065715196\n",
       "\\item 0.201549190782131\n",
       "\\item 0.209121321259688\n",
       "\\item 0.295851903933907\n",
       "\\item 0.30203587877441\n",
       "\\item 0.276644468255248\n",
       "\\item 0.222147811795679\n",
       "\\item 0.218250986846438\n",
       "\\item 0.18434867739225\n",
       "\\item 0.220267113369314\n",
       "\\item 0.176100574295286\n",
       "\\item 0.247072882950798\n",
       "\\end{enumerate*}\n"
      ],
      "text/markdown": [
       "1. 0.182938754391163\n",
       "2. 0.13025564056008\n",
       "3. 0.299323113301696\n",
       "4. 0.235453779128155\n",
       "5. 0.235308776988402\n",
       "6. 0.20820658035256\n",
       "7. 0.215062692827808\n",
       "8. 0.216862789805299\n",
       "9. 0.204719065715196\n",
       "10. 0.201549190782131\n",
       "11. 0.209121321259688\n",
       "12. 0.295851903933907\n",
       "13. 0.30203587877441\n",
       "14. 0.276644468255248\n",
       "15. 0.222147811795679\n",
       "16. 0.218250986846438\n",
       "17. 0.18434867739225\n",
       "18. 0.220267113369314\n",
       "19. 0.176100574295286\n",
       "20. 0.247072882950798\n",
       "\n",
       "\n"
      ],
      "text/plain": [
       " [1] 0.1829388 0.1302556 0.2993231 0.2354538 0.2353088 0.2082066 0.2150627\n",
       " [8] 0.2168628 0.2047191 0.2015492 0.2091213 0.2958519 0.3020359 0.2766445\n",
       "[15] 0.2221478 0.2182510 0.1843487 0.2202671 0.1761006 0.2470729"
      ]
     },
     "metadata": {},
     "output_type": "display_data"
    }
   ],
   "source": [
    "model.accelerated$beta"
   ]
  },
  {
   "cell_type": "code",
   "execution_count": 534,
   "id": "8efcbd34-f028-4bc3-9870-baa3eb275fbb",
   "metadata": {},
   "outputs": [
    {
     "data": {
      "text/html": [
       "<style>\n",
       ".list-inline {list-style: none; margin:0; padding: 0}\n",
       ".list-inline>li {display: inline-block}\n",
       ".list-inline>li:not(:last-child)::after {content: \"\\00b7\"; padding: 0 .5ex}\n",
       "</style>\n",
       "<ol class=list-inline><li>0.223606797749979</li><li>0.223606797749979</li><li>0.223606797749979</li><li>0.223606797749979</li><li>0.223606797749979</li><li>0.223606797749979</li><li>0.223606797749979</li><li>0.223606797749979</li><li>0.223606797749979</li><li>0.223606797749979</li><li>0.223606797749979</li><li>0.223606797749979</li><li>0.223606797749979</li><li>0.223606797749979</li><li>0.223606797749979</li><li>0.223606797749979</li><li>0.223606797749979</li><li>0.223606797749979</li><li>0.223606797749979</li><li>0.223606797749979</li></ol>\n"
      ],
      "text/latex": [
       "\\begin{enumerate*}\n",
       "\\item 0.223606797749979\n",
       "\\item 0.223606797749979\n",
       "\\item 0.223606797749979\n",
       "\\item 0.223606797749979\n",
       "\\item 0.223606797749979\n",
       "\\item 0.223606797749979\n",
       "\\item 0.223606797749979\n",
       "\\item 0.223606797749979\n",
       "\\item 0.223606797749979\n",
       "\\item 0.223606797749979\n",
       "\\item 0.223606797749979\n",
       "\\item 0.223606797749979\n",
       "\\item 0.223606797749979\n",
       "\\item 0.223606797749979\n",
       "\\item 0.223606797749979\n",
       "\\item 0.223606797749979\n",
       "\\item 0.223606797749979\n",
       "\\item 0.223606797749979\n",
       "\\item 0.223606797749979\n",
       "\\item 0.223606797749979\n",
       "\\end{enumerate*}\n"
      ],
      "text/markdown": [
       "1. 0.223606797749979\n",
       "2. 0.223606797749979\n",
       "3. 0.223606797749979\n",
       "4. 0.223606797749979\n",
       "5. 0.223606797749979\n",
       "6. 0.223606797749979\n",
       "7. 0.223606797749979\n",
       "8. 0.223606797749979\n",
       "9. 0.223606797749979\n",
       "10. 0.223606797749979\n",
       "11. 0.223606797749979\n",
       "12. 0.223606797749979\n",
       "13. 0.223606797749979\n",
       "14. 0.223606797749979\n",
       "15. 0.223606797749979\n",
       "16. 0.223606797749979\n",
       "17. 0.223606797749979\n",
       "18. 0.223606797749979\n",
       "19. 0.223606797749979\n",
       "20. 0.223606797749979\n",
       "\n",
       "\n"
      ],
      "text/plain": [
       " [1] 0.2236068 0.2236068 0.2236068 0.2236068 0.2236068 0.2236068 0.2236068\n",
       " [8] 0.2236068 0.2236068 0.2236068 0.2236068 0.2236068 0.2236068 0.2236068\n",
       "[15] 0.2236068 0.2236068 0.2236068 0.2236068 0.2236068 0.2236068"
      ]
     },
     "metadata": {},
     "output_type": "display_data"
    }
   ],
   "source": [
    "data$beta"
   ]
  },
  {
   "cell_type": "code",
   "execution_count": null,
   "id": "3b310790-1fcc-406a-9178-de48d9a5be8b",
   "metadata": {},
   "outputs": [],
   "source": []
  },
  {
   "cell_type": "code",
   "execution_count": null,
   "id": "52fdbc15-c9b5-4f98-b9ad-5ac7dd8dbb5b",
   "metadata": {},
   "outputs": [],
   "source": []
  }
 ],
 "metadata": {
  "kernelspec": {
   "display_name": "R",
   "language": "R",
   "name": "ir"
  },
  "language_info": {
   "codemirror_mode": "r",
   "file_extension": ".r",
   "mimetype": "text/x-r-source",
   "name": "R",
   "pygments_lexer": "r",
   "version": "4.1.2"
  }
 },
 "nbformat": 4,
 "nbformat_minor": 5
}

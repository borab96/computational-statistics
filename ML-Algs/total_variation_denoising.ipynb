{
 "cells": [
  {
   "cell_type": "code",
   "execution_count": 1,
   "id": "82ac587d-2f6f-4a76-825c-f5d2a7a244a8",
   "metadata": {},
   "outputs": [
    {
     "name": "stderr",
     "output_type": "stream",
     "text": [
      "Warning message:\n",
      "\"package 'microbenchmark' was built under R version 4.1.3\"\n"
     ]
    }
   ],
   "source": [
    "library(ggplot2)\n",
    "library(tibble)\n",
    "library(microbenchmark)"
   ]
  },
  {
   "cell_type": "markdown",
   "id": "296f136c-7235-43a6-ac30-f473e429cff6",
   "metadata": {},
   "source": [
    "# Total variation denoising\n",
    "\n",
    "Let $\\mu_i$ be a piece-wise constant sequence of means. For $\\varepsilon_i\\sim\\mathcal N(0,1)$, construct the signal\n",
    "$$\n",
    "y_i = \\mu_i+\\varepsilon_i.\n",
    "$$\n",
    "To recover the original signal, $X:=\\mu_i$, we solve\n",
    "$$\n",
    "\\min_{X\\in\\mathbb R^n}\\underbrace{\\frac{1}{2}\\|X-y\\|_2^2}_{f(X)}+\\underbrace{\\lambda \\sum_{i=1}^{n-1}|X_{i+1}-X_i|}_{h(DX)}\n",
    "$$\n",
    "where $D$ is the first order forward difference matrix. This is the primal problem. \n",
    "\n",
    "For comparisons, I will use \n",
    "$$\n",
    "\\sqrt{\\sum_{i=1}^{n}|X_i-f(i/n)|^2}\n",
    "$$\n",
    "as the error metric\n",
    "\n",
    "\n",
    "## Data"
   ]
  },
  {
   "cell_type": "code",
   "execution_count": 3,
   "id": "c6eb911d-4b57-4bea-81a2-c507c427d569",
   "metadata": {},
   "outputs": [],
   "source": [
    "f<- function(x)\n",
    "{\n",
    "    if(x<0){return(0)}\n",
    "    else if(x<0.5){return(0)}\n",
    "    else if(x<0.7){return(1)}\n",
    "    # else if(x<0.8){return(0)}\n",
    "    else if (x<=1){return(2)}\n",
    "    else {return(1)}\n",
    "}\n",
    "\n",
    "f <- Vectorize(f, \"x\")"
   ]
  },
  {
   "cell_type": "code",
   "execution_count": 4,
   "id": "3411823b-809d-40c9-b0a3-f595477778d4",
   "metadata": {},
   "outputs": [],
   "source": [
    "generate_data <- function(n, seed=12, ratio=0.5)\n",
    "{\n",
    "    set.seed(seed)\n",
    "    index <- seq(1, n)\n",
    "    X <- f(index/n)\n",
    "    y <- X+rnorm(n)*ratio#*ratio*max(X)\n",
    "    return(tibble(index=index, X=X, y=y))\n",
    "}"
   ]
  },
  {
   "cell_type": "code",
   "execution_count": 5,
   "id": "2ac4f99b-12ec-43e0-90c8-f65c21e43ecb",
   "metadata": {},
   "outputs": [
    {
     "data": {
      "image/png": "[encoded data removed]",
      "text/plain": [
       "plot without title"
      ]
     },
     "metadata": {
      "image/png": {
       "height": 420,
       "width": 420
      }
     },
     "output_type": "display_data"
    }
   ],
   "source": [
    "data <- generate_data(400)\n",
    "ggplot(data=data, aes(x=index)) +\n",
    "geom_line(aes(y=X , color='X'), lwd=1.5) +\n",
    "geom_line(aes(y=y , color='y'), lwd=0.4) +\n",
    "theme_bw() +\n",
    "theme(legend.position='bottom', text = element_text(size = 16))"
   ]
  },
  {
   "cell_type": "markdown",
   "id": "7c4f5d2d-2b5f-4f76-804b-425904b5fdae",
   "metadata": {},
   "source": [
    "## Implementation\n",
    "\n",
    "### Helpers"
   ]
  },
  {
   "cell_type": "code",
   "execution_count": 6,
   "id": "b6e22373-f57a-40cf-96d5-94769a89ef4a",
   "metadata": {},
   "outputs": [],
   "source": [
    "l1.norm <- function(a) {sum(abs(a))}\n",
    "l2.norm <- function(a) {sqrt(sum(a*a))}\n",
    "\n",
    "forward.diff <- function(n)\n",
    "{\n",
    "    D <- matrix(0, nrow = n, ncol = n)\n",
    "    D[row(D)==col(D)] = -1\n",
    "    D[row(D)==col(D)-1] = 1\n",
    "    return(-D)\n",
    "}\n",
    "\n",
    "shrinkage <- function(vec, k)\n",
    "{\n",
    "    return(pmax(0, vec-k) - pmax(0, -vec-k))\n",
    "}\n",
    "\n",
    "loss_fn <- function(X, y, z, lam){.5*l2.norm(X - y)**2 + lam*l1.norm(z)}\n",
    "prox.l1 <- function(x, lam){sign(x)*pmax(abs(x)-lam, 0)}"
   ]
  },
  {
   "cell_type": "markdown",
   "id": "16cfc0bf-5e4f-412d-b0a1-a8bc5666cbc1",
   "metadata": {},
   "source": [
    "## ADMM\n",
    "\n",
    "The augmented Lagrangian reads\n",
    "$$\n",
    "L_\\rho = \\frac{1}{2}\\|X-Y\\|_2^2+I_C(z)+\\frac{\\rho}{2}\\|x-z+u\\|_2^2\n",
    "$$\n",
    "where the constraint set is\n",
    "$$\n",
    "C:=\\{(x, \\delta x)|\\delta x_i = x_{i+1}-x_i\\}.\n",
    "$$\n",
    "The ADMM updates are \n",
    "$$\n",
    "\\begin{aligned}\n",
    "X &\\leftarrow (1+\\rho D^TD)^{-1}(y+\\rho D^T(z-u))\\\\\n",
    "z&\\leftarrow S_{\\lambda/\\rho}(\\alpha DX+(1-\\alpha)z+u)\\\\\n",
    "u&\\leftarrow u+\\alpha DX+(1-\\alpha)z+u-z\n",
    "\\end{aligned}\n",
    "$$\n",
    "The details of how these are obtained can be found in [Boyd et al](https://reader.elsevier.com/reader/sd/pii/S1474667015379325?token=5E0B89DE9236893E0F557DBC4C02660003DD1F9FBC78A56805E217A4A7D6E0D755D207BEE189E86369570E6860019C9D&originRegion=us-east-1&originCreation=20220424192628)."
   ]
  },
  {
   "cell_type": "code",
   "execution_count": 7,
   "id": "6b4b1bb9-fd8c-4ca6-9ecb-76c5202c9497",
   "metadata": {},
   "outputs": [],
   "source": [
    "step.ADMM <- function(y, X, z, u, lam, rho, alpha)\n",
    "{\n",
    "    n <- length(y)\n",
    "    D <- forward.diff(n)\n",
    "    X <- solve(diag(n) + rho*t(D)%*%D) %*% (y + rho*t(D)%*%(z-u))\n",
    "    z_prev <- z\n",
    "    precomp <- alpha*D%*%X +(1-alpha)*z;\n",
    "    z <- prox.l1(precomp + u, lam/rho);\n",
    "    u <- u + precomp - z\n",
    "    return(list(X=X, z=z, z_prev=z_prev, u=u))\n",
    "}"
   ]
  },
  {
   "cell_type": "code",
   "execution_count": 8,
   "id": "e40f7262-952d-4394-8daf-4c27e67579dc",
   "metadata": {},
   "outputs": [],
   "source": [
    "fit.ADMM <- function(y, X_true, lam, rho, alpha, max_iter=250)\n",
    "{\n",
    "    n <- length(y)\n",
    "    params <- list(X=numeric(length=n), z=numeric(length=n), z_prev=numeric(length=n), u=numeric(length=n))\n",
    "    loss <- NULL\n",
    "    pr <- NULL\n",
    "    dr <- NULL\n",
    "    error <- NULL\n",
    "    for(i in 1:max_iter)\n",
    "    {\n",
    "        params <- step.ADMM(y, params$X, params$z, params$u, lam, rho, alpha)\n",
    "        loss <- c(loss, loss_fn(params$X, y, params$z, lam))\n",
    "        pr<-c(pr, l2.norm(params$X-params$z))\n",
    "        dr <- c(dr, l2.norm(-rho*(params$z-params$z_prev)))\n",
    "        error<- c(error, l2.norm(X_true-params$X))\n",
    "    } \n",
    "    return(list(X_pred=params$X, pr=pr, dr=dr, loss=loss, error=error))\n",
    "}\n",
    "\n",
    "model.ADMM <- fit.ADMM(data$y,data$X, 2.5, 3, 1.8)"
   ]
  },
  {
   "cell_type": "code",
   "execution_count": 9,
   "id": "4ec0ec80-c492-4c21-8088-5659d3b8b6d8",
   "metadata": {},
   "outputs": [
    {
     "data": {
      "image/png": "[encoded data removed]",
      "text/plain": [
       "plot without title"
      ]
     },
     "metadata": {
      "image/png": {
       "height": 420,
       "width": 420
      }
     },
     "output_type": "display_data"
    }
   ],
   "source": [
    "results.ADMM <- tibble(index=data$index, X_pred=model.ADMM$X_pred)\n",
    "conv.ADMM <-tibble(epoch=1:length(model.ADMM$loss), loss=model.ADMM$loss, primal.residual=model.ADMM$pr, dual.residual=model.ADMM$dr, error=model.ADMM$error)\n",
    "\n",
    "ggplot(data=results.ADMM, aes(x=index)) +\n",
    "geom_line(aes(y=X_pred , color='X_pred'), lwd=1.5) +\n",
    "geom_line(aes(y=data$X , color='X'), lwd=1.5) +\n",
    "geom_point(aes(y=data$y , color='y'), lwd=0.4) +\n",
    "theme_bw() +\n",
    "theme(legend.position='bottom', text = element_text(size = 16))"
   ]
  },
  {
   "cell_type": "markdown",
   "id": "5a0529bc-86ac-4631-a9ca-d3f7ed78790f",
   "metadata": {},
   "source": [
    "## Accelerated dual proximal gradient \n",
    "\n",
    "We now need the dual formulation of the problem:\n",
    "$$\n",
    "\\max_\\mu\\min_{X,z}f(X)+h(z)+\\mu^T(DX-z),\\quad z=DX\n",
    "$$\n",
    "This is equivalent to \n",
    "$$\n",
    "-\\max_\\mu\\left\\{ \\bar f(-D^T\\mu)+\\bar h(\\mu) \\right\\}\n",
    "$$\n",
    "where $\\bar g$ is the Legendre conjugate of $g$.\n",
    "\n",
    "The proximal gradient descent update is\n",
    "$$\n",
    "\\mu^{k+1} = \\text{Prox}_{t^k\\bar h}(\\mu^k+t^kD\\nabla \\bar f(-D^T\\mu^k)).\n",
    "$$\n",
    "We proved that this is equivalent to\n",
    "$$\n",
    "\\begin{aligned}\n",
    "x^k&=\\arg\\min_x\\left(f(x)+\\mu^TDx ^k\\right)\\\\\n",
    "\\mu^{k+1}&=\\mu^k+t^kDx^k-t^k\\text{Prox}_{h/t^k}\\left(\\frac{\\mu^k}{t^k}+D x^k\\right)\n",
    "\\end{aligned}\n",
    "$$\n",
    "The primal update is simple,\n",
    "$$\n",
    "x^k = y+D^T\\mu^k,\n",
    "$$\n",
    "and the prox operator is of the $l_1$ norm in our case. Let us choose $t=1/4$. Then, the algorithm for accelerate proximal gradient descent involves computing\n",
    "$$\n",
    "\\begin{aligned}\n",
    "\\tilde X^{k+1} &= y+D^T\\mu^k\\\\\n",
    "\\mu^{k+1} &= \\mu_k-\\frac{1}{L}D\\tilde X+\\frac{1}{L}S_{L\\lambda}(D\\tilde X-\\mu L)\\\\\n",
    "t^{k+1} &=\\frac{\\sqrt{1+Lt^2_k}}{2}\\\\\n",
    "\\end{aligned}\n",
    "$$\n",
    "and assembling these into\n",
    "$$\n",
    "X^{k+1}=\\tilde X_{k+1}+\\frac{t_{k}-1}{t_{k+1}}(\\tilde X_{k+1}-\\tilde X_{k})\n",
    "$$"
   ]
  },
  {
   "cell_type": "code",
   "execution_count": 12,
   "id": "30e0ec71-45ee-4a9a-a589-d6571c5f9356",
   "metadata": {},
   "outputs": [],
   "source": [
    "step.dpgd <- function(y, X, mu, lam, t)\n",
    "{\n",
    "    n <- length(y)\n",
    "    D <- forward.diff(n)\n",
    "    L <- 4#l2.norm(D)\n",
    "    X <- t(D)%*%mu+y\n",
    "    mu <- mu-D%*%X/L+prox.l1(D%*%X-mu*L, lam*L)/L;\n",
    "    t <- (1+sqrt(1+L*t**2))/2\n",
    "    return(list(X=X, mu=mu, t=t))\n",
    "}"
   ]
  },
  {
   "cell_type": "code",
   "execution_count": 23,
   "id": "6724e8b5-65b4-4a90-8ef1-ede07403b688",
   "metadata": {},
   "outputs": [],
   "source": [
    "fit.dpgd <- function(y, X_true, lam, max_iter=250)\n",
    "{\n",
    "    n <- length(y)\n",
    "    D <- forward.diff(n)\n",
    "    params <- list(X=numeric(length=n), mu=numeric(length=n), t=1)\n",
    "    loss <- NULL\n",
    "    error <- NULL\n",
    "\n",
    "    for(i in 1:max_iter)\n",
    "    {\n",
    "        X_old <- params$X\n",
    "        t_old <- params$t\n",
    "        params <- step.dpgd(y, params$X, params$mu, lam, params$t)\n",
    "        X_ <- params$X+((t_old-1)/(params$t))*(params$X-X_old)\n",
    "        # print(X_)\n",
    "        loss <- c(loss, loss_fn(X_, y, D%*%X_, lam))\n",
    "        error <- c(error, l2.norm(X_-X_true))\n",
    "        # pr<-c(pr, l2.norm(params$X-params$z))\n",
    "        # dr <- c(dr, l2.norm(-rho*(params$z-params$z_prev)))\n",
    "    } \n",
    "    return(list(X_pred=X_, loss=loss, error=error))\n",
    "}\n",
    "\n",
    "model.DPGD <- fit.dpgd(data$y,data$X, 1.8)\n",
    "conv.DPGD <-tibble(epoch=1:length(model.DPGD$loss), loss=model.DPGD$loss, error=model.DPGD$error)"
   ]
  },
  {
   "cell_type": "code",
   "execution_count": 25,
   "id": "b11d0cfb-3c1b-468c-9fdd-0cf32d533844",
   "metadata": {},
   "outputs": [
    {
     "data": {
      "image/png": "[encoded data removed]",
      "text/plain": [
       "plot without title"
      ]
     },
     "metadata": {
      "image/png": {
       "height": 420,
       "width": 420
      }
     },
     "output_type": "display_data"
    }
   ],
   "source": [
    "results.dpgd <- tibble(index=data$index, X_pred=model.DPGD$X)\n",
    "ggplot(data=results.dpgd, aes(x=index)) +\n",
    "geom_line(aes(y=X_pred , color='X_pred'), lwd=1.5) +\n",
    "geom_line(aes(y=data$X , color='X'), lwd=1.5) +\n",
    "geom_line(aes(y=data$y , color='y'), lwd=0.4) +\n",
    "theme_bw() +\n",
    "theme(legend.position='bottom', text = element_text(size = 16))"
   ]
  },
  {
   "cell_type": "code",
   "execution_count": 26,
   "id": "2c3d9b5a-40e8-46b6-afef-f8ee93ee634d",
   "metadata": {},
   "outputs": [
    {
     "data": {
      "image/png": "[encoded data removed]",
      "text/plain": [
       "plot without title"
      ]
     },
     "metadata": {
      "image/png": {
       "height": 420,
       "width": 420
      }
     },
     "output_type": "display_data"
    }
   ],
   "source": [
    "ggplot(data=conv.ADMM, aes(x=epoch)) +\n",
    "geom_line(aes(y=error , color='ADMM'), lwd=1.5) +\n",
    "geom_line(aes(y=conv.DPGD$error , color='accelerated DPGD'), lwd=1.5) +\n",
    "theme_bw() +\n",
    "theme(legend.position='bottom', text = element_text(size = 16))"
   ]
  },
  {
   "cell_type": "code",
   "execution_count": 27,
   "id": "ba17acd5-79f1-4dda-b278-073631dbf83d",
   "metadata": {},
   "outputs": [],
   "source": [
    "ADMM.overfit <- which.max(model.ADMM$error<2.5)\n",
    "DPGD.overfit <- which.max(model.DPGD$error<2.5)\n",
    "# acc_prox.overfit <- which.max(model.acc_prox$error<0)\n",
    "n.reps <- 1000\n",
    "bench <- summary(microbenchmark(\n",
    "    step.ADMM(data$y, data$X, numeric(length=length(data$y)), numeric(length=length(data$y)), 2.5, 1, 1.8),\n",
    "    step.dpgd(data$y, data$X, numeric(length=length(data$y)), 2.5, 1),\n",
    "    unit='ms',\n",
    "    times=n.reps))"
   ]
  },
  {
   "cell_type": "code",
   "execution_count": 28,
   "id": "8df199a5-1eec-40ff-ad55-5ac33882c069",
   "metadata": {},
   "outputs": [
    {
     "data": {
      "text/html": [
       "<table class=\"dataframe\">\n",
       "<caption>A tibble: 2 × 3</caption>\n",
       "<thead>\n",
       "\t<tr><th scope=col>iter</th><th scope=col>overfit</th><th scope=col>total</th></tr>\n",
       "\t<tr><th scope=col>&lt;dbl&gt;</th><th scope=col>&lt;int&gt;</th><th scope=col>&lt;dbl&gt;</th></tr>\n",
       "</thead>\n",
       "<tbody>\n",
       "\t<tr><td>14.047796</td><td> 5</td><td> 70.23898</td></tr>\n",
       "\t<tr><td> 6.355945</td><td>57</td><td>362.28888</td></tr>\n",
       "</tbody>\n",
       "</table>\n"
      ],
      "text/latex": [
       "A tibble: 2 × 3\n",
       "\\begin{tabular}{lll}\n",
       " iter & overfit & total\\\\\n",
       " <dbl> & <int> & <dbl>\\\\\n",
       "\\hline\n",
       "\t 14.047796 &  5 &  70.23898\\\\\n",
       "\t  6.355945 & 57 & 362.28888\\\\\n",
       "\\end{tabular}\n"
      ],
      "text/markdown": [
       "\n",
       "A tibble: 2 × 3\n",
       "\n",
       "| iter &lt;dbl&gt; | overfit &lt;int&gt; | total &lt;dbl&gt; |\n",
       "|---|---|---|\n",
       "| 14.047796 |  5 |  70.23898 |\n",
       "|  6.355945 | 57 | 362.28888 |\n",
       "\n"
      ],
      "text/plain": [
       "  iter      overfit total    \n",
       "1 14.047796  5       70.23898\n",
       "2  6.355945 57      362.28888"
      ]
     },
     "metadata": {},
     "output_type": "display_data"
    }
   ],
   "source": [
    "tibble(iter=bench$mean ,\n",
    "overfit=c(ADMM.overfit , DPGD.overfit),\n",
    "total=c(ADMM.overfit *bench$mean[1],\n",
    "DPGD.overfit * bench$mean [2]))"
   ]
  },
  {
   "cell_type": "markdown",
   "id": "d3b3f8df-5129-4c32-8807-2ced835a34f5",
   "metadata": {},
   "source": [
    "Notice that ADMM converges faster but its per iteration cost is rather high. The key is that the ADMM step can be distributed since the sub-steps are all independent. "
   ]
  },
  {
   "cell_type": "code",
   "execution_count": null,
   "id": "0df74aa2-5d97-4d05-be5e-f0fc62f2d33e",
   "metadata": {},
   "outputs": [],
   "source": []
  }
 ],
 "metadata": {
  "kernelspec": {
   "display_name": "R",
   "language": "R",
   "name": "ir"
  },
  "language_info": {
   "codemirror_mode": "r",
   "file_extension": ".r",
   "mimetype": "text/x-r-source",
   "name": "R",
   "pygments_lexer": "r",
   "version": "4.1.2"
  }
 },
 "nbformat": 4,
 "nbformat_minor": 5
}
